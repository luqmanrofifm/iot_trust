{
  "nbformat": 4,
  "nbformat_minor": 0,
  "metadata": {
    "colab": {
      "name": "Node Coordinator Selection.ipynb",
      "provenance": []
    },
    "kernelspec": {
      "name": "python3",
      "display_name": "Python 3"
    },
    "language_info": {
      "name": "python"
    }
  },
  "cells": [
    {
      "cell_type": "markdown",
      "metadata": {
        "id": "Urut7GbJ6Ss7"
      },
      "source": [
        "Generate data untuk mengecek waktu eksekusi berdasarkan jumlah node"
      ]
    },
    {
      "cell_type": "code",
      "metadata": {
        "id": "yMvxDqPNQREE"
      },
      "source": [
        "import pandas as pd\n",
        "import numpy as np\n",
        "import datetime as dt\n",
        "import random\n",
        "from itertools import permutations"
      ],
      "execution_count": 1,
      "outputs": []
    },
    {
      "cell_type": "markdown",
      "metadata": {
        "id": "k6cmwUERBbwc"
      },
      "source": [
        "# Definisi Kelas Komunitas"
      ]
    },
    {
      "cell_type": "code",
      "metadata": {
        "id": "G11spw1L6jMq"
      },
      "source": [
        "# number_of_node merupakan jumlah node pada komunitas\n",
        "\n",
        "# number_of_relaton merupakan total koneksi pada komunitas tersebut\n",
        "# nilai number_of_relation adalah 0 sampai 1\n",
        "# artinya jika terdapat 3 node (A,B,C), maka total koneksi yang memungkinkan ada 6 (A-B, A-C, B-A, B-C, C-A, C-B)\n",
        "# jika misalkan nilai number_of_relation adalah 0.5, maka akan diambil 3 koneksi dari total 6 koneksi\n",
        "\n",
        "class Community:\n",
        "  def __init__ (self, number_of_node, number_of_relation=1):\n",
        "    self.number_of_node = number_of_node\n",
        "    self.number_of_relation = number_of_relation\n",
        "    self.table_of_node = Community.generate_table_node(self, self.number_of_node)\n",
        "    self.table_of_relation = Community.generate_table_relation(self, self.number_of_node, self.number_of_relation)\n",
        "\n",
        "  # fungsi untuk generate tabel yang berisi daftar node pada suatu komunitas\n",
        "  def generate_table_node(self, number_node):\n",
        "    df = pd.DataFrame(columns=['Comm_ID','Node_ID','X','Y','Trust','RAM'])\n",
        "    for i in range(number_node):\n",
        "      df = df.append({'Comm_ID':'A', 'Node_ID':'A' + str(i), 'X':random.randint(0,100),'Y':random.randint(0,100), 'Trust':random.random(), 'RAM':random.uniform(0.1, 4.0)}, ignore_index = True)\n",
        "\n",
        "    return df\n",
        "\n",
        "  # fungsi untuk membuat matrik relasi node\n",
        "  def generate_matrix_relation(self, number_node, prob_connection):\n",
        "    mat_relation = np.identity(number_node, dtype=int) \n",
        "    all_con_posible = number_node -1\n",
        "    if (prob_connection == 0):\n",
        "      new_prob_con = []\n",
        "      for i in range(number_node):\n",
        "        new_prob_con.append(random.random())\n",
        "      prob_connection = new_prob_con\n",
        "    \n",
        "\n",
        "    for i in range(number_node):\n",
        "      list_row = list(mat_relation[i,:])\n",
        "\n",
        "      list_pos_con = []\n",
        "      for n,val in enumerate(list_row):\n",
        "        if val == 0:\n",
        "          list_pos_con.append(n)\n",
        "\n",
        "      number_con = int(np.ceil(prob_connection[i] * all_con_posible))\n",
        "      con_left = number_con - (all_con_posible-len(list_pos_con))\n",
        "      rand_con = random.sample(list_pos_con, con_left)\n",
        "\n",
        "      for j in rand_con:\n",
        "        mat_relation[j,i] = 1\n",
        "        mat_relation[i,j] = 1\n",
        "\n",
        "    return mat_relation\n",
        "  \n",
        "  # menambahkan quality pada matrik connection\n",
        "  def add_quality_relation(self, mat_relation):\n",
        "    copy_mat_relation = mat_relation.copy()\n",
        "    for i in range(len(mat_relation)):\n",
        "      for n,val in enumerate(list(mat_relation[1,:])):\n",
        "        if (n > i and val == 1):\n",
        "          rand = round(random.random(),3)\n",
        "          copy_mat_relation[n,i] = rand\n",
        "          copy_mat_relation[i,n] = rand    \n",
        "    return copy_mat_relation  \n",
        "\n",
        "  # fungsi untuk generate tabel yang berisi daftar koneksi tiap node\n",
        "  def generate_table_relation(self, number_node, number_relation):\n",
        "    df = pd.DataFrame(columns=['node_1','node_2','quality','datetime'])\n",
        "    list_net = list(permutations(range(number_node),2))\n",
        "    number_net = round(number_relation * len(list_net))\n",
        "    list_number_net = random.sample(list_net, number_net)\n",
        "\n",
        "    for i in list_number_net:\n",
        "      df = df.append({'node_1':'A'+ str(i[0]), 'node_2':'A' + str(i[1]), 'quality':random.random(),'datetime':dt.datetime.now()}, ignore_index = True)\n",
        "    \n",
        "    return df\n",
        "\n",
        "  #fungsi untuk kalkulasi\n",
        "  def calculate_table(self):\n",
        "    df_calculate = self.table_of_relation.groupby(['node_1']).sum()\n",
        "    df_calculate['number_of_relation'] = list(self.table_of_relation.groupby(['node_1']).size())\n",
        "    df_calculate['rate_quality'] = df_calculate['quality']/df_calculate['number_of_relation']\n",
        "    \n",
        "    df_node = self.table_of_node.copy()\n",
        "    df_node['comp_rate'] = df_node['RAM'].apply(Community.parse_ram)\n",
        "\n",
        "    df_calculate['comp_rate'] = df_node['comp_rate'].tolist()\n",
        "    return df_calculate.sort_values(by='rate_quality', ascending=False)\n",
        "\n",
        "  def parse_ram(ram):\n",
        "    pwr = 0\n",
        "    if ram < 1 :\n",
        "        pwr = 0.3\n",
        "    if ram >= 1 :\n",
        "        pwr = 0.6\n",
        "    if ram >=4 :\n",
        "        pwr = 1\n",
        "    return pwr"
      ],
      "execution_count": null,
      "outputs": []
    },
    {
      "cell_type": "markdown",
      "metadata": {
        "id": "ihu0dFzbB4ZC"
      },
      "source": [
        "## Buat objek komunitas"
      ]
    },
    {
      "cell_type": "code",
      "metadata": {
        "colab": {
          "base_uri": "https://localhost:8080/",
          "height": 204
        },
        "id": "Nop5tMIR8Qj5",
        "outputId": "9ce07a24-ebfa-4782-eaa7-4357fbde5d6e"
      },
      "source": [
        "coba = Community(number_of_node=5)\n",
        "coba.table_of_node"
      ],
      "execution_count": null,
      "outputs": [
        {
          "output_type": "execute_result",
          "data": {
            "text/html": [
              "<div>\n",
              "<style scoped>\n",
              "    .dataframe tbody tr th:only-of-type {\n",
              "        vertical-align: middle;\n",
              "    }\n",
              "\n",
              "    .dataframe tbody tr th {\n",
              "        vertical-align: top;\n",
              "    }\n",
              "\n",
              "    .dataframe thead th {\n",
              "        text-align: right;\n",
              "    }\n",
              "</style>\n",
              "<table border=\"1\" class=\"dataframe\">\n",
              "  <thead>\n",
              "    <tr style=\"text-align: right;\">\n",
              "      <th></th>\n",
              "      <th>Comm_ID</th>\n",
              "      <th>Node_ID</th>\n",
              "      <th>X</th>\n",
              "      <th>Y</th>\n",
              "      <th>Trust</th>\n",
              "      <th>RAM</th>\n",
              "    </tr>\n",
              "  </thead>\n",
              "  <tbody>\n",
              "    <tr>\n",
              "      <th>0</th>\n",
              "      <td>A</td>\n",
              "      <td>A0</td>\n",
              "      <td>26</td>\n",
              "      <td>5</td>\n",
              "      <td>0.443606</td>\n",
              "      <td>0.392947</td>\n",
              "    </tr>\n",
              "    <tr>\n",
              "      <th>1</th>\n",
              "      <td>A</td>\n",
              "      <td>A1</td>\n",
              "      <td>46</td>\n",
              "      <td>23</td>\n",
              "      <td>0.117427</td>\n",
              "      <td>1.550081</td>\n",
              "    </tr>\n",
              "    <tr>\n",
              "      <th>2</th>\n",
              "      <td>A</td>\n",
              "      <td>A2</td>\n",
              "      <td>23</td>\n",
              "      <td>48</td>\n",
              "      <td>0.675091</td>\n",
              "      <td>3.016036</td>\n",
              "    </tr>\n",
              "    <tr>\n",
              "      <th>3</th>\n",
              "      <td>A</td>\n",
              "      <td>A3</td>\n",
              "      <td>0</td>\n",
              "      <td>62</td>\n",
              "      <td>0.860149</td>\n",
              "      <td>2.123563</td>\n",
              "    </tr>\n",
              "    <tr>\n",
              "      <th>4</th>\n",
              "      <td>A</td>\n",
              "      <td>A4</td>\n",
              "      <td>5</td>\n",
              "      <td>52</td>\n",
              "      <td>0.228219</td>\n",
              "      <td>1.607700</td>\n",
              "    </tr>\n",
              "  </tbody>\n",
              "</table>\n",
              "</div>"
            ],
            "text/plain": [
              "  Comm_ID Node_ID   X   Y     Trust       RAM\n",
              "0       A      A0  26   5  0.443606  0.392947\n",
              "1       A      A1  46  23  0.117427  1.550081\n",
              "2       A      A2  23  48  0.675091  3.016036\n",
              "3       A      A3   0  62  0.860149  2.123563\n",
              "4       A      A4   5  52  0.228219  1.607700"
            ]
          },
          "metadata": {},
          "execution_count": 3
        }
      ]
    },
    {
      "cell_type": "code",
      "metadata": {
        "colab": {
          "base_uri": "https://localhost:8080/",
          "height": 669
        },
        "id": "Oh657J2S8W5x",
        "outputId": "f4220f54-a0d6-4769-8492-4e0760acd22d"
      },
      "source": [
        "coba.table_of_relation"
      ],
      "execution_count": null,
      "outputs": [
        {
          "output_type": "execute_result",
          "data": {
            "text/html": [
              "<div>\n",
              "<style scoped>\n",
              "    .dataframe tbody tr th:only-of-type {\n",
              "        vertical-align: middle;\n",
              "    }\n",
              "\n",
              "    .dataframe tbody tr th {\n",
              "        vertical-align: top;\n",
              "    }\n",
              "\n",
              "    .dataframe thead th {\n",
              "        text-align: right;\n",
              "    }\n",
              "</style>\n",
              "<table border=\"1\" class=\"dataframe\">\n",
              "  <thead>\n",
              "    <tr style=\"text-align: right;\">\n",
              "      <th></th>\n",
              "      <th>node_1</th>\n",
              "      <th>node_2</th>\n",
              "      <th>quality</th>\n",
              "      <th>datetime</th>\n",
              "    </tr>\n",
              "  </thead>\n",
              "  <tbody>\n",
              "    <tr>\n",
              "      <th>0</th>\n",
              "      <td>A1</td>\n",
              "      <td>A3</td>\n",
              "      <td>0.819939</td>\n",
              "      <td>2021-09-26 23:56:22.516450</td>\n",
              "    </tr>\n",
              "    <tr>\n",
              "      <th>1</th>\n",
              "      <td>A3</td>\n",
              "      <td>A2</td>\n",
              "      <td>0.475719</td>\n",
              "      <td>2021-09-26 23:56:22.521526</td>\n",
              "    </tr>\n",
              "    <tr>\n",
              "      <th>2</th>\n",
              "      <td>A4</td>\n",
              "      <td>A0</td>\n",
              "      <td>0.916420</td>\n",
              "      <td>2021-09-26 23:56:22.524600</td>\n",
              "    </tr>\n",
              "    <tr>\n",
              "      <th>3</th>\n",
              "      <td>A2</td>\n",
              "      <td>A1</td>\n",
              "      <td>0.404223</td>\n",
              "      <td>2021-09-26 23:56:22.527537</td>\n",
              "    </tr>\n",
              "    <tr>\n",
              "      <th>4</th>\n",
              "      <td>A4</td>\n",
              "      <td>A3</td>\n",
              "      <td>0.545639</td>\n",
              "      <td>2021-09-26 23:56:22.530479</td>\n",
              "    </tr>\n",
              "    <tr>\n",
              "      <th>5</th>\n",
              "      <td>A3</td>\n",
              "      <td>A1</td>\n",
              "      <td>0.813926</td>\n",
              "      <td>2021-09-26 23:56:22.533357</td>\n",
              "    </tr>\n",
              "    <tr>\n",
              "      <th>6</th>\n",
              "      <td>A0</td>\n",
              "      <td>A3</td>\n",
              "      <td>0.484001</td>\n",
              "      <td>2021-09-26 23:56:22.536225</td>\n",
              "    </tr>\n",
              "    <tr>\n",
              "      <th>7</th>\n",
              "      <td>A3</td>\n",
              "      <td>A4</td>\n",
              "      <td>0.177709</td>\n",
              "      <td>2021-09-26 23:56:22.539567</td>\n",
              "    </tr>\n",
              "    <tr>\n",
              "      <th>8</th>\n",
              "      <td>A4</td>\n",
              "      <td>A2</td>\n",
              "      <td>0.816232</td>\n",
              "      <td>2021-09-26 23:56:22.542455</td>\n",
              "    </tr>\n",
              "    <tr>\n",
              "      <th>9</th>\n",
              "      <td>A1</td>\n",
              "      <td>A2</td>\n",
              "      <td>0.251477</td>\n",
              "      <td>2021-09-26 23:56:22.545875</td>\n",
              "    </tr>\n",
              "    <tr>\n",
              "      <th>10</th>\n",
              "      <td>A1</td>\n",
              "      <td>A0</td>\n",
              "      <td>0.288683</td>\n",
              "      <td>2021-09-26 23:56:22.548720</td>\n",
              "    </tr>\n",
              "    <tr>\n",
              "      <th>11</th>\n",
              "      <td>A3</td>\n",
              "      <td>A0</td>\n",
              "      <td>0.114146</td>\n",
              "      <td>2021-09-26 23:56:22.551574</td>\n",
              "    </tr>\n",
              "    <tr>\n",
              "      <th>12</th>\n",
              "      <td>A4</td>\n",
              "      <td>A1</td>\n",
              "      <td>0.814567</td>\n",
              "      <td>2021-09-26 23:56:22.554383</td>\n",
              "    </tr>\n",
              "    <tr>\n",
              "      <th>13</th>\n",
              "      <td>A0</td>\n",
              "      <td>A1</td>\n",
              "      <td>0.776688</td>\n",
              "      <td>2021-09-26 23:56:22.557194</td>\n",
              "    </tr>\n",
              "    <tr>\n",
              "      <th>14</th>\n",
              "      <td>A1</td>\n",
              "      <td>A4</td>\n",
              "      <td>0.513105</td>\n",
              "      <td>2021-09-26 23:56:22.559989</td>\n",
              "    </tr>\n",
              "    <tr>\n",
              "      <th>15</th>\n",
              "      <td>A2</td>\n",
              "      <td>A3</td>\n",
              "      <td>0.874360</td>\n",
              "      <td>2021-09-26 23:56:22.562779</td>\n",
              "    </tr>\n",
              "    <tr>\n",
              "      <th>16</th>\n",
              "      <td>A0</td>\n",
              "      <td>A2</td>\n",
              "      <td>0.277762</td>\n",
              "      <td>2021-09-26 23:56:22.565539</td>\n",
              "    </tr>\n",
              "    <tr>\n",
              "      <th>17</th>\n",
              "      <td>A2</td>\n",
              "      <td>A4</td>\n",
              "      <td>0.309125</td>\n",
              "      <td>2021-09-26 23:56:22.568313</td>\n",
              "    </tr>\n",
              "    <tr>\n",
              "      <th>18</th>\n",
              "      <td>A2</td>\n",
              "      <td>A0</td>\n",
              "      <td>0.164416</td>\n",
              "      <td>2021-09-26 23:56:22.571068</td>\n",
              "    </tr>\n",
              "    <tr>\n",
              "      <th>19</th>\n",
              "      <td>A0</td>\n",
              "      <td>A4</td>\n",
              "      <td>0.650216</td>\n",
              "      <td>2021-09-26 23:56:22.573784</td>\n",
              "    </tr>\n",
              "  </tbody>\n",
              "</table>\n",
              "</div>"
            ],
            "text/plain": [
              "   node_1 node_2   quality                   datetime\n",
              "0      A1     A3  0.819939 2021-09-26 23:56:22.516450\n",
              "1      A3     A2  0.475719 2021-09-26 23:56:22.521526\n",
              "2      A4     A0  0.916420 2021-09-26 23:56:22.524600\n",
              "3      A2     A1  0.404223 2021-09-26 23:56:22.527537\n",
              "4      A4     A3  0.545639 2021-09-26 23:56:22.530479\n",
              "5      A3     A1  0.813926 2021-09-26 23:56:22.533357\n",
              "6      A0     A3  0.484001 2021-09-26 23:56:22.536225\n",
              "7      A3     A4  0.177709 2021-09-26 23:56:22.539567\n",
              "8      A4     A2  0.816232 2021-09-26 23:56:22.542455\n",
              "9      A1     A2  0.251477 2021-09-26 23:56:22.545875\n",
              "10     A1     A0  0.288683 2021-09-26 23:56:22.548720\n",
              "11     A3     A0  0.114146 2021-09-26 23:56:22.551574\n",
              "12     A4     A1  0.814567 2021-09-26 23:56:22.554383\n",
              "13     A0     A1  0.776688 2021-09-26 23:56:22.557194\n",
              "14     A1     A4  0.513105 2021-09-26 23:56:22.559989\n",
              "15     A2     A3  0.874360 2021-09-26 23:56:22.562779\n",
              "16     A0     A2  0.277762 2021-09-26 23:56:22.565539\n",
              "17     A2     A4  0.309125 2021-09-26 23:56:22.568313\n",
              "18     A2     A0  0.164416 2021-09-26 23:56:22.571068\n",
              "19     A0     A4  0.650216 2021-09-26 23:56:22.573784"
            ]
          },
          "metadata": {},
          "execution_count": 4
        }
      ]
    },
    {
      "cell_type": "code",
      "metadata": {
        "colab": {
          "base_uri": "https://localhost:8080/",
          "height": 235
        },
        "id": "UHq1JYLd9KQh",
        "outputId": "ca6a84f8-68aa-466f-becc-60fc7c698995"
      },
      "source": [
        "coba.calculate_table()"
      ],
      "execution_count": null,
      "outputs": [
        {
          "output_type": "execute_result",
          "data": {
            "text/html": [
              "<div>\n",
              "<style scoped>\n",
              "    .dataframe tbody tr th:only-of-type {\n",
              "        vertical-align: middle;\n",
              "    }\n",
              "\n",
              "    .dataframe tbody tr th {\n",
              "        vertical-align: top;\n",
              "    }\n",
              "\n",
              "    .dataframe thead th {\n",
              "        text-align: right;\n",
              "    }\n",
              "</style>\n",
              "<table border=\"1\" class=\"dataframe\">\n",
              "  <thead>\n",
              "    <tr style=\"text-align: right;\">\n",
              "      <th></th>\n",
              "      <th>quality</th>\n",
              "      <th>number_of_relation</th>\n",
              "      <th>rate_quality</th>\n",
              "      <th>comp_rate</th>\n",
              "    </tr>\n",
              "    <tr>\n",
              "      <th>node_1</th>\n",
              "      <th></th>\n",
              "      <th></th>\n",
              "      <th></th>\n",
              "      <th></th>\n",
              "    </tr>\n",
              "  </thead>\n",
              "  <tbody>\n",
              "    <tr>\n",
              "      <th>A4</th>\n",
              "      <td>3.092857</td>\n",
              "      <td>4</td>\n",
              "      <td>0.773214</td>\n",
              "      <td>0.6</td>\n",
              "    </tr>\n",
              "    <tr>\n",
              "      <th>A0</th>\n",
              "      <td>2.188668</td>\n",
              "      <td>4</td>\n",
              "      <td>0.547167</td>\n",
              "      <td>0.3</td>\n",
              "    </tr>\n",
              "    <tr>\n",
              "      <th>A1</th>\n",
              "      <td>1.873204</td>\n",
              "      <td>4</td>\n",
              "      <td>0.468301</td>\n",
              "      <td>0.6</td>\n",
              "    </tr>\n",
              "    <tr>\n",
              "      <th>A2</th>\n",
              "      <td>1.752125</td>\n",
              "      <td>4</td>\n",
              "      <td>0.438031</td>\n",
              "      <td>0.6</td>\n",
              "    </tr>\n",
              "    <tr>\n",
              "      <th>A3</th>\n",
              "      <td>1.581499</td>\n",
              "      <td>4</td>\n",
              "      <td>0.395375</td>\n",
              "      <td>0.6</td>\n",
              "    </tr>\n",
              "  </tbody>\n",
              "</table>\n",
              "</div>"
            ],
            "text/plain": [
              "         quality  number_of_relation  rate_quality  comp_rate\n",
              "node_1                                                       \n",
              "A4      3.092857                   4      0.773214        0.6\n",
              "A0      2.188668                   4      0.547167        0.3\n",
              "A1      1.873204                   4      0.468301        0.6\n",
              "A2      1.752125                   4      0.438031        0.6\n",
              "A3      1.581499                   4      0.395375        0.6"
            ]
          },
          "metadata": {},
          "execution_count": 5
        }
      ]
    },
    {
      "cell_type": "code",
      "metadata": {
        "id": "ECUatr_Cij7m",
        "colab": {
          "base_uri": "https://localhost:8080/"
        },
        "outputId": "59fc5b02-64c8-4458-f2a9-35e6e158f6eb"
      },
      "source": [
        "import numpy as np\n",
        "\n",
        "coba_np = np.identity(5)\n",
        "a = [\n",
        "     [1,2,3,4,5],\n",
        "     [6,7,8,9,10],\n",
        "     [11,12,13,14,15],\n",
        "     [16,17,18,19,20],\n",
        "     [21,22,23,24,25]\n",
        "     ]\n",
        "np_a = np.array(a)\n",
        "coba_np"
      ],
      "execution_count": 52,
      "outputs": [
        {
          "output_type": "execute_result",
          "data": {
            "text/plain": [
              "array([[1., 0., 0., 0., 0.],\n",
              "       [0., 1., 0., 0., 0.],\n",
              "       [0., 0., 1., 0., 0.],\n",
              "       [0., 0., 0., 1., 0.],\n",
              "       [0., 0., 0., 0., 1.]])"
            ]
          },
          "metadata": {},
          "execution_count": 52
        }
      ]
    },
    {
      "cell_type": "code",
      "metadata": {
        "colab": {
          "base_uri": "https://localhost:8080/"
        },
        "id": "cywNHEZx9P0l",
        "outputId": "1fc28721-75d0-4225-ecc8-c90b391008f1"
      },
      "source": [
        "prob_coba = [0.1, 0.3, 0.5, 0.4, 0.5]\n",
        "\n",
        "for i in range(5):\n",
        "  print(np_a[i][0])\n",
        "  np_a[i][0] *= 5 \n",
        "\n",
        "np_a"
      ],
      "execution_count": 4,
      "outputs": [
        {
          "output_type": "stream",
          "name": "stdout",
          "text": [
            "1\n",
            "6\n",
            "11\n",
            "16\n",
            "21\n"
          ]
        },
        {
          "output_type": "execute_result",
          "data": {
            "text/plain": [
              "array([[  5,   2,   3,   4,   5],\n",
              "       [ 30,   7,   8,   9,  10],\n",
              "       [ 55,  12,  13,  14,  15],\n",
              "       [ 80,  17,  18,  19,  20],\n",
              "       [105,  22,  23,  24,  25]])"
            ]
          },
          "metadata": {},
          "execution_count": 4
        }
      ]
    },
    {
      "cell_type": "code",
      "metadata": {
        "colab": {
          "base_uri": "https://localhost:8080/"
        },
        "id": "u-dB81ycAAw_",
        "outputId": "7a46a75d-fd00-4015-892a-abfca52cb778"
      },
      "source": [
        "for i in range(5):\n",
        "  list_con = []\n",
        "  number_con = int(np.ceil(prob_coba[i] * 5))\n",
        "  for j in range(number_con):\n",
        "    numb_ran = random.randint(0,4)\n",
        "    if (numb_ran not in list_con and numb_ran != i):\n",
        "      list_con.append(numb_ran)\n",
        "    elif (numb_ran in list_con or numb_ran == i):\n",
        "      while (numb_ran in list_con or numb_ran == i):\n",
        "        numb_ran = random.randint(0,4)\n",
        "      list_con.append(numb_ran)\n",
        "  print(number_con)\n",
        "  print(list_con)\n",
        "  print('=============')\n",
        "  for j in list_con:\n",
        "    coba_np[i][j] = j+1"
      ],
      "execution_count": 23,
      "outputs": [
        {
          "output_type": "stream",
          "name": "stdout",
          "text": [
            "1\n",
            "[2]\n",
            "=============\n",
            "2\n",
            "[0, 2]\n",
            "=============\n",
            "3\n",
            "[0, 4, 1]\n",
            "=============\n",
            "2\n",
            "[4, 1]\n",
            "=============\n",
            "3\n",
            "[3, 1, 0]\n",
            "=============\n"
          ]
        }
      ]
    },
    {
      "cell_type": "code",
      "metadata": {
        "colab": {
          "base_uri": "https://localhost:8080/"
        },
        "id": "QFYsv4IwG4OR",
        "outputId": "b42f8577-dd3a-47f8-e495-c535b9a376d7"
      },
      "source": [
        "coba_np"
      ],
      "execution_count": 6,
      "outputs": [
        {
          "output_type": "execute_result",
          "data": {
            "text/plain": [
              "array([[1, 2, 0, 0, 0],\n",
              "       [1, 1, 0, 0, 5],\n",
              "       [1, 2, 1, 4, 0],\n",
              "       [0, 2, 3, 1, 0],\n",
              "       [1, 2, 0, 4, 1]])"
            ]
          },
          "metadata": {},
          "execution_count": 6
        }
      ]
    },
    {
      "cell_type": "code",
      "metadata": {
        "id": "IwQ8SjdpHM4J",
        "colab": {
          "base_uri": "https://localhost:8080/"
        },
        "outputId": "c7d4f41e-d548-419f-f1db-c52f314010e6"
      },
      "source": [
        "for i in range(5):\n",
        "  list_row = list(coba_np[i,:])\n",
        "\n",
        "  list_pos_con = []\n",
        "  for n,val in enumerate(list_row):\n",
        "    if val == 0:\n",
        "      list_pos_con.append(n)\n",
        "\n",
        "  print(list_pos_con)\n",
        "  number_con = int(np.ceil(prob_coba[i] * 4))\n",
        "  con_left = number_con - (4-len(list_pos_con))\n",
        "  print(con_left)\n",
        "  rand_con = random.sample(list_pos_con, con_left)\n",
        "\n",
        "  for j in rand_con:\n",
        "    coba_np[j,i] = 1\n",
        "    coba_np[i,j] = 1\n",
        "\n",
        "coba_np"
      ],
      "execution_count": 53,
      "outputs": [
        {
          "output_type": "stream",
          "name": "stdout",
          "text": [
            "[1, 2, 3, 4]\n",
            "1\n",
            "[2, 3, 4]\n",
            "1\n",
            "[0, 1, 3, 4]\n",
            "2\n",
            "[0, 4]\n",
            "0\n",
            "[0, 1, 3]\n",
            "1\n"
          ]
        },
        {
          "output_type": "execute_result",
          "data": {
            "text/plain": [
              "array([[1., 1., 0., 0., 0.],\n",
              "       [1., 1., 0., 1., 0.],\n",
              "       [0., 0., 1., 1., 1.],\n",
              "       [0., 1., 1., 1., 1.],\n",
              "       [0., 0., 1., 1., 1.]])"
            ]
          },
          "metadata": {},
          "execution_count": 53
        }
      ]
    },
    {
      "cell_type": "code",
      "metadata": {
        "id": "-pwcihWWJdxu",
        "colab": {
          "base_uri": "https://localhost:8080/"
        },
        "outputId": "fbd20aef-8ac0-40cd-c423-bf8852b6dbd1"
      },
      "source": [
        "for i in range(len(coba_np)):\n",
        "  for n,val in enumerate(list(coba_np[1,:])):\n",
        "    if (n > i and val == 1):\n",
        "      rand = round(random.random(),3)\n",
        "      coba_np[n,i] = rand\n",
        "      coba_np[i,n] = rand\n",
        "\n",
        "coba_np"
      ],
      "execution_count": 54,
      "outputs": [
        {
          "output_type": "execute_result",
          "data": {
            "text/plain": [
              "array([[1.   , 0.024, 0.   , 0.354, 0.   ],\n",
              "       [0.024, 1.   , 0.   , 0.772, 0.   ],\n",
              "       [0.   , 0.   , 1.   , 1.   , 1.   ],\n",
              "       [0.354, 0.772, 1.   , 1.   , 1.   ],\n",
              "       [0.   , 0.   , 1.   , 1.   , 1.   ]])"
            ]
          },
          "metadata": {},
          "execution_count": 54
        }
      ]
    },
    {
      "cell_type": "code",
      "metadata": {
        "colab": {
          "base_uri": "https://localhost:8080/"
        },
        "id": "rx9R4eB0_y81",
        "outputId": "0384be6e-4c7c-40ed-bf52-15f9690a7415"
      },
      "source": [
        "coba_np"
      ],
      "execution_count": 55,
      "outputs": [
        {
          "output_type": "execute_result",
          "data": {
            "text/plain": [
              "array([[1.   , 0.024, 0.   , 0.354, 0.   ],\n",
              "       [0.024, 1.   , 0.   , 0.772, 0.   ],\n",
              "       [0.   , 0.   , 1.   , 1.   , 1.   ],\n",
              "       [0.354, 0.772, 1.   , 1.   , 1.   ],\n",
              "       [0.   , 0.   , 1.   , 1.   , 1.   ]])"
            ]
          },
          "metadata": {},
          "execution_count": 55
        }
      ]
    },
    {
      "cell_type": "code",
      "metadata": {
        "id": "AidT-_McA9Rp"
      },
      "source": [
        ""
      ],
      "execution_count": null,
      "outputs": []
    }
  ]
}