{
  "nbformat": 4,
  "nbformat_minor": 0,
  "metadata": {
    "colab": {
      "name": "Node Coordinator Selection.ipynb",
      "provenance": [],
      "collapsed_sections": [
        "53HVTz7inPBw"
      ]
    },
    "kernelspec": {
      "name": "python3",
      "display_name": "Python 3"
    },
    "language_info": {
      "name": "python"
    }
  },
  "cells": [
    {
      "cell_type": "markdown",
      "metadata": {
        "id": "Urut7GbJ6Ss7"
      },
      "source": [
        "Generate data untuk mengecek waktu eksekusi berdasarkan jumlah node"
      ]
    },
    {
      "cell_type": "code",
      "metadata": {
        "id": "yMvxDqPNQREE"
      },
      "source": [
        "import pandas as pd\n",
        "import numpy as np\n",
        "import datetime as dt\n",
        "import random\n",
        "from itertools import permutations"
      ],
      "execution_count": 3,
      "outputs": []
    },
    {
      "cell_type": "markdown",
      "metadata": {
        "id": "k6cmwUERBbwc"
      },
      "source": [
        "# Definisi Kelas Komunitas"
      ]
    },
    {
      "cell_type": "code",
      "metadata": {
        "id": "G11spw1L6jMq"
      },
      "source": [
        "# number_of_node merupakan jumlah node pada komunitas, pada nilai tersebut nilai minimalnya adalah 2\n",
        "# comm_id merupakan ID yang digunakan ketika membuat objek, default valuenya adalah A\n",
        "\n",
        "# prob_connection merupakan persentasi jumlah relasi pada setiap node dan berbentuk array\n",
        "# sebagai contoh misalkan terdapat 3 node, maka prob_connection nya dapat diisi menjadi [0.1, 0.2, 0.3]\n",
        "# hal tersebut memiliki arti node 1 memiliki jumlah relasi 0.1 * total relasi yang memungkinkan\n",
        "# pada contoh ini relasi yang memungkinkan pada setiap node adalah 2 (relasi ke diri sendiri tidak termasuk)\n",
        "# default value dari prob_connection adalah 0, jadi jika prob_connection tidak diisi dengan array,\n",
        "# maka persentase relasi tiap node akan dirandom\n",
        "\n",
        "class Community:\n",
        "  def __init__ (self,number_of_node, comm_id='A', prob_connection=0):\n",
        "    self.comm_id = comm_id\n",
        "\n",
        "    if number_of_node > 1:\n",
        "      self.number_of_node = number_of_node\n",
        "    else :\n",
        "      raise ValueError('Jumlah node minimal adalah 2')\n",
        "\n",
        "    self.prob_connection = prob_connection\n",
        "    self.matrix_relation = 0\n",
        "    self.table_of_node = Community.generate_table_node(self, self.number_of_node)\n",
        "    self.table_of_relation = Community.generate_table_relation(self)\n",
        "\n",
        "  # fungsi untuk generate tabel yang berisi daftar node pada suatu komunitas\n",
        "  def generate_table_node(self, number_node):\n",
        "    comm_id = self.comm_id\n",
        "    df = pd.DataFrame(columns=['Comm_ID','Node_ID','X','Y','Trust','RAM'])\n",
        "    for i in range(number_node):\n",
        "      df = df.append({'Comm_ID':comm_id, 'Node_ID':comm_id+'_' + str(i), 'X':random.randint(0,100),'Y':random.randint(0,100), 'Trust':round(random.uniform(0.5,1.0),3), 'RAM':random.uniform(0.1, 4.0)}, ignore_index = True)\n",
        "\n",
        "    ran_comp_res = Community.generate_comp_resource(self)\n",
        "\n",
        "    for i in ran_comp_res:\n",
        "      val_class = ran_comp_res[i]\n",
        "      for j in val_class:\n",
        "        df.at[j, 'Comp_Res'] = i\n",
        "\n",
        "    return df\n",
        "\n",
        "  # fungsi untuk generate computation resource\n",
        "  def generate_comp_resource(self):\n",
        "    val = self.number_of_node\n",
        "    if (val > 3):\n",
        "      ls_rand_gen = [0.1, 0.15, 0.35, 0.3]\n",
        "      ls_ha = []\n",
        "\n",
        "      if (val > 4):\n",
        "        for i in ls_rand_gen:\n",
        "          ls_ha.append(int(np.ceil(i * val)))\n",
        "\n",
        "        if (sum(ls_ha) > val):\n",
        "          ls_ha[2] -= (sum(ls_ha) - val)\n",
        "        elif (sum(ls_ha) < val):\n",
        "          ls_ha[2] += (val - sum(ls_ha))\n",
        "\n",
        "        if (ls_ha[3] > ls_ha[2]):\n",
        "          ls_ha[2], ls_ha[3] = ls_ha[3], ls_ha[2]\n",
        "      elif (val == 4):\n",
        "        ls_ha = [1,1,1,1]\n",
        "\n",
        "      dict_res = {}\n",
        "      ls_index = range(val)\n",
        "      for i,val in enumerate(ls_ha):\n",
        "        res_random = random.sample(ls_index, val)\n",
        "        dict_res['Class-'+str(i+1)]  = res_random\n",
        "        ls_index = list(set(ls_index)-set(res_random))\n",
        "\n",
        "      return dict_res\n",
        "\n",
        "    elif (val == 3):\n",
        "      dict_res = {\n",
        "          'Class-1':[0],\n",
        "          'Class-2':[1],\n",
        "          'Class-3':[2]\n",
        "      }\n",
        " \n",
        "      return dict_res\n",
        "\n",
        "    elif (val == 2):\n",
        "      dict_res = {\n",
        "          'Class-1':[0],\n",
        "          'Class-2':[1],\n",
        "      }\n",
        "\n",
        "      return dict_res\n",
        "\n",
        "  # fungsi untuk membuat matrik relasi node\n",
        "  def generate_matrix_relation(self):\n",
        "    number_node = self.number_of_node\n",
        "    prob_connection = self.prob_connection\n",
        "    mat_relation = np.identity(number_node) \n",
        "    all_con_posible = number_node -1\n",
        "\n",
        "    if (prob_connection == 0):\n",
        "      new_prob_con = []\n",
        "      \n",
        "      for i in range(number_node):\n",
        "        new_prob_con.append(random.random())\n",
        "      prob_connection = new_prob_con\n",
        "    \n",
        "\n",
        "    for i in range(number_node):\n",
        "      list_row = list(mat_relation[i,:])\n",
        "\n",
        "      list_pos_con = []\n",
        "      list_already_con = []\n",
        "\n",
        "      for n,val in enumerate(list_row):\n",
        "        if val == 0:\n",
        "          list_pos_con.append(n)\n",
        "        elif val == 1 and n != i:\n",
        "          list_already_con.append(n)\n",
        "\n",
        "      number_con = int(np.ceil(prob_connection[i] * all_con_posible))\n",
        "      random_con = 0\n",
        "\n",
        "      if (len(list_already_con) < number_con):\n",
        "        con_left = number_con - (all_con_posible - len(list_pos_con))\n",
        "        rand_con = random.sample(list_pos_con, con_left)\n",
        "        \n",
        "        for j in rand_con:\n",
        "          mat_relation[j,i] = 1\n",
        "          mat_relation[i,j] = 1\n",
        "\n",
        "    self.matrix_relation = mat_relation\n",
        "    return mat_relation\n",
        "  \n",
        "  # menambahkan quality pada matrik connection\n",
        "  def add_quality_relation(mat_relation):\n",
        "    mat_copy = mat_relation.copy()\n",
        "    for i in range(len(mat_relation)):\n",
        "      for n,val in enumerate(list(mat_relation[i,:])):\n",
        "        if (n > i and val == 1):\n",
        "          rand = round(random.uniform(0.5,1.0),3)\n",
        "          mat_copy[n,i] = rand\n",
        "          mat_copy[i,n] = rand    \n",
        "    return mat_copy \n",
        "\n",
        "  # fungsi untuk generate tabel yang berisi daftar koneksi tiap node\n",
        "  def generate_table_relation(self):\n",
        "    number_node = self.number_of_node\n",
        "    mat_relation = Community.generate_matrix_relation(self)\n",
        "\n",
        "    mat_quality_relation = Community.add_quality_relation(mat_relation)\n",
        "\n",
        "    df = pd.DataFrame(columns=['node_1','node_2','quality','datetime'])\n",
        "\n",
        "    for i in range(number_node):\n",
        "      list_node_rel = list(mat_quality_relation[i,:])\n",
        "      for n,val in enumerate(list_node_rel):\n",
        "        if (n != i and val != 0):\n",
        "          df = df.append({'node_1':'A_'+ str(i), 'node_2':'A_' + str(n), 'quality':val,'datetime':dt.datetime.now()}, ignore_index = True)\n",
        "\n",
        "    return df\n",
        "\n",
        "  #fungsi untuk kalkulasi\n",
        "  def calculate_table(self, alpha=0.3, beta=0.3, gamma=0.4):\n",
        "    df_calculate = self.table_of_relation.groupby(['node_1']).sum()\n",
        "    df_calculate['relation'] = list(self.table_of_relation.groupby(['node_1']).size())\n",
        "    df_calculate['C_score'] = df_calculate['quality']/df_calculate['relation']\n",
        "    \n",
        "    df_node = self.table_of_node.copy()\n",
        "    df_node['comp_rate'] = df_node['RAM'].apply(Community.parse_ram)\n",
        "    df_node['resource_rate'] = df_node['Comp_Res'].apply(Community.parse_comp_res)\n",
        "\n",
        "    df_calculate['comp_rate'] = df_node['comp_rate'].tolist()\n",
        "    df_calculate['resource_rate'] = df_node['resource_rate'].tolist()\n",
        "    df_calculate['T_score'] = self.table_of_node['Trust'].tolist()\n",
        "    df_calculate['I_score'] = (df_calculate['comp_rate']+df_calculate['resource_rate'])/2\n",
        "    df_calculate['S_score'] = (alpha*df_calculate['C_score'])+(beta*df_calculate['I_score'])+(gamma*df_calculate['T_score'])\n",
        "\n",
        "    return df_calculate.sort_values(by='S_score', ascending=False)\n",
        "\n",
        "  def parse_ram(ram):\n",
        "    pwr = 0\n",
        "    if ram < 1 :\n",
        "        pwr = 0.3\n",
        "    if ram >= 1 :\n",
        "        pwr = 0.6\n",
        "    if ram >=4 :\n",
        "        pwr = 1\n",
        "    return pwr\n",
        "\n",
        "  def parse_comp_res(class_type):\n",
        "    val = 0\n",
        "    if (class_type == 'Class-1'):\n",
        "      val = 0.8\n",
        "    elif (class_type == 'Class-2'):\n",
        "      val = 0.6\n",
        "    elif (class_type == 'Class-3'):\n",
        "      val = 0.4\n",
        "    elif (class_type == 'Class-4'):\n",
        "      val = 0.2\n",
        "    \n",
        "    return val"
      ],
      "execution_count": 147,
      "outputs": []
    },
    {
      "cell_type": "markdown",
      "metadata": {
        "id": "ihu0dFzbB4ZC"
      },
      "source": [
        "## Buat objek komunitas"
      ]
    },
    {
      "cell_type": "code",
      "metadata": {
        "id": "Nop5tMIR8Qj5"
      },
      "source": [
        "coba = Community(number_of_node=5, comm_id='B', prob_connection=[0.1, 0.3, 0.5, 0.4, 0.5])"
      ],
      "execution_count": 149,
      "outputs": []
    },
    {
      "cell_type": "code",
      "metadata": {
        "colab": {
          "base_uri": "https://localhost:8080/",
          "height": 205
        },
        "id": "2a3eByqUnNPg",
        "outputId": "f0d53a97-5f12-4eef-a53e-75ae9901a27d"
      },
      "source": [
        "coba.table_of_node"
      ],
      "execution_count": 150,
      "outputs": [
        {
          "output_type": "execute_result",
          "data": {
            "text/html": [
              "<div>\n",
              "<style scoped>\n",
              "    .dataframe tbody tr th:only-of-type {\n",
              "        vertical-align: middle;\n",
              "    }\n",
              "\n",
              "    .dataframe tbody tr th {\n",
              "        vertical-align: top;\n",
              "    }\n",
              "\n",
              "    .dataframe thead th {\n",
              "        text-align: right;\n",
              "    }\n",
              "</style>\n",
              "<table border=\"1\" class=\"dataframe\">\n",
              "  <thead>\n",
              "    <tr style=\"text-align: right;\">\n",
              "      <th></th>\n",
              "      <th>Comm_ID</th>\n",
              "      <th>Node_ID</th>\n",
              "      <th>X</th>\n",
              "      <th>Y</th>\n",
              "      <th>Trust</th>\n",
              "      <th>RAM</th>\n",
              "      <th>Comp_Res</th>\n",
              "    </tr>\n",
              "  </thead>\n",
              "  <tbody>\n",
              "    <tr>\n",
              "      <th>0</th>\n",
              "      <td>B</td>\n",
              "      <td>B_0</td>\n",
              "      <td>55</td>\n",
              "      <td>84</td>\n",
              "      <td>0.671</td>\n",
              "      <td>0.364740</td>\n",
              "      <td>Class-3</td>\n",
              "    </tr>\n",
              "    <tr>\n",
              "      <th>1</th>\n",
              "      <td>B</td>\n",
              "      <td>B_1</td>\n",
              "      <td>7</td>\n",
              "      <td>31</td>\n",
              "      <td>0.740</td>\n",
              "      <td>2.807242</td>\n",
              "      <td>Class-4</td>\n",
              "    </tr>\n",
              "    <tr>\n",
              "      <th>2</th>\n",
              "      <td>B</td>\n",
              "      <td>B_2</td>\n",
              "      <td>23</td>\n",
              "      <td>83</td>\n",
              "      <td>0.519</td>\n",
              "      <td>1.800675</td>\n",
              "      <td>Class-3</td>\n",
              "    </tr>\n",
              "    <tr>\n",
              "      <th>3</th>\n",
              "      <td>B</td>\n",
              "      <td>B_3</td>\n",
              "      <td>39</td>\n",
              "      <td>70</td>\n",
              "      <td>0.952</td>\n",
              "      <td>1.098204</td>\n",
              "      <td>Class-1</td>\n",
              "    </tr>\n",
              "    <tr>\n",
              "      <th>4</th>\n",
              "      <td>B</td>\n",
              "      <td>B_4</td>\n",
              "      <td>39</td>\n",
              "      <td>76</td>\n",
              "      <td>0.657</td>\n",
              "      <td>2.697810</td>\n",
              "      <td>Class-2</td>\n",
              "    </tr>\n",
              "  </tbody>\n",
              "</table>\n",
              "</div>"
            ],
            "text/plain": [
              "  Comm_ID Node_ID   X   Y  Trust       RAM Comp_Res\n",
              "0       B     B_0  55  84  0.671  0.364740  Class-3\n",
              "1       B     B_1   7  31  0.740  2.807242  Class-4\n",
              "2       B     B_2  23  83  0.519  1.800675  Class-3\n",
              "3       B     B_3  39  70  0.952  1.098204  Class-1\n",
              "4       B     B_4  39  76  0.657  2.697810  Class-2"
            ]
          },
          "metadata": {},
          "execution_count": 150
        }
      ]
    },
    {
      "cell_type": "code",
      "metadata": {
        "colab": {
          "base_uri": "https://localhost:8080/"
        },
        "id": "LsAJblMr1MoL",
        "outputId": "94a2f780-8f77-46f8-8005-69a57ee5778f"
      },
      "source": [
        "coba.matrix_relation"
      ],
      "execution_count": 151,
      "outputs": [
        {
          "output_type": "execute_result",
          "data": {
            "text/plain": [
              "array([[1., 1., 0., 1., 1.],\n",
              "       [1., 1., 1., 0., 0.],\n",
              "       [0., 1., 1., 1., 1.],\n",
              "       [1., 0., 1., 1., 0.],\n",
              "       [1., 0., 1., 0., 1.]])"
            ]
          },
          "metadata": {},
          "execution_count": 151
        }
      ]
    },
    {
      "cell_type": "code",
      "metadata": {
        "colab": {
          "base_uri": "https://localhost:8080/",
          "height": 425
        },
        "id": "Oh657J2S8W5x",
        "outputId": "bb77094b-5a27-4b00-e0d1-0941a9dffa77"
      },
      "source": [
        " coba.table_of_relation"
      ],
      "execution_count": 152,
      "outputs": [
        {
          "output_type": "execute_result",
          "data": {
            "text/html": [
              "<div>\n",
              "<style scoped>\n",
              "    .dataframe tbody tr th:only-of-type {\n",
              "        vertical-align: middle;\n",
              "    }\n",
              "\n",
              "    .dataframe tbody tr th {\n",
              "        vertical-align: top;\n",
              "    }\n",
              "\n",
              "    .dataframe thead th {\n",
              "        text-align: right;\n",
              "    }\n",
              "</style>\n",
              "<table border=\"1\" class=\"dataframe\">\n",
              "  <thead>\n",
              "    <tr style=\"text-align: right;\">\n",
              "      <th></th>\n",
              "      <th>node_1</th>\n",
              "      <th>node_2</th>\n",
              "      <th>quality</th>\n",
              "      <th>datetime</th>\n",
              "    </tr>\n",
              "  </thead>\n",
              "  <tbody>\n",
              "    <tr>\n",
              "      <th>0</th>\n",
              "      <td>A_0</td>\n",
              "      <td>A_1</td>\n",
              "      <td>0.815</td>\n",
              "      <td>2021-10-09 06:31:32.746587</td>\n",
              "    </tr>\n",
              "    <tr>\n",
              "      <th>1</th>\n",
              "      <td>A_0</td>\n",
              "      <td>A_3</td>\n",
              "      <td>0.827</td>\n",
              "      <td>2021-10-09 06:31:32.750096</td>\n",
              "    </tr>\n",
              "    <tr>\n",
              "      <th>2</th>\n",
              "      <td>A_0</td>\n",
              "      <td>A_4</td>\n",
              "      <td>0.925</td>\n",
              "      <td>2021-10-09 06:31:32.753487</td>\n",
              "    </tr>\n",
              "    <tr>\n",
              "      <th>3</th>\n",
              "      <td>A_1</td>\n",
              "      <td>A_0</td>\n",
              "      <td>0.815</td>\n",
              "      <td>2021-10-09 06:31:32.756793</td>\n",
              "    </tr>\n",
              "    <tr>\n",
              "      <th>4</th>\n",
              "      <td>A_1</td>\n",
              "      <td>A_2</td>\n",
              "      <td>0.702</td>\n",
              "      <td>2021-10-09 06:31:32.760050</td>\n",
              "    </tr>\n",
              "    <tr>\n",
              "      <th>5</th>\n",
              "      <td>A_2</td>\n",
              "      <td>A_1</td>\n",
              "      <td>0.702</td>\n",
              "      <td>2021-10-09 06:31:32.763338</td>\n",
              "    </tr>\n",
              "    <tr>\n",
              "      <th>6</th>\n",
              "      <td>A_2</td>\n",
              "      <td>A_3</td>\n",
              "      <td>0.512</td>\n",
              "      <td>2021-10-09 06:31:32.766804</td>\n",
              "    </tr>\n",
              "    <tr>\n",
              "      <th>7</th>\n",
              "      <td>A_2</td>\n",
              "      <td>A_4</td>\n",
              "      <td>0.550</td>\n",
              "      <td>2021-10-09 06:31:32.770124</td>\n",
              "    </tr>\n",
              "    <tr>\n",
              "      <th>8</th>\n",
              "      <td>A_3</td>\n",
              "      <td>A_0</td>\n",
              "      <td>0.827</td>\n",
              "      <td>2021-10-09 06:31:32.773539</td>\n",
              "    </tr>\n",
              "    <tr>\n",
              "      <th>9</th>\n",
              "      <td>A_3</td>\n",
              "      <td>A_2</td>\n",
              "      <td>0.512</td>\n",
              "      <td>2021-10-09 06:31:32.777087</td>\n",
              "    </tr>\n",
              "    <tr>\n",
              "      <th>10</th>\n",
              "      <td>A_4</td>\n",
              "      <td>A_0</td>\n",
              "      <td>0.925</td>\n",
              "      <td>2021-10-09 06:31:32.780599</td>\n",
              "    </tr>\n",
              "    <tr>\n",
              "      <th>11</th>\n",
              "      <td>A_4</td>\n",
              "      <td>A_2</td>\n",
              "      <td>0.550</td>\n",
              "      <td>2021-10-09 06:31:32.784405</td>\n",
              "    </tr>\n",
              "  </tbody>\n",
              "</table>\n",
              "</div>"
            ],
            "text/plain": [
              "   node_1 node_2  quality                   datetime\n",
              "0     A_0    A_1    0.815 2021-10-09 06:31:32.746587\n",
              "1     A_0    A_3    0.827 2021-10-09 06:31:32.750096\n",
              "2     A_0    A_4    0.925 2021-10-09 06:31:32.753487\n",
              "3     A_1    A_0    0.815 2021-10-09 06:31:32.756793\n",
              "4     A_1    A_2    0.702 2021-10-09 06:31:32.760050\n",
              "5     A_2    A_1    0.702 2021-10-09 06:31:32.763338\n",
              "6     A_2    A_3    0.512 2021-10-09 06:31:32.766804\n",
              "7     A_2    A_4    0.550 2021-10-09 06:31:32.770124\n",
              "8     A_3    A_0    0.827 2021-10-09 06:31:32.773539\n",
              "9     A_3    A_2    0.512 2021-10-09 06:31:32.777087\n",
              "10    A_4    A_0    0.925 2021-10-09 06:31:32.780599\n",
              "11    A_4    A_2    0.550 2021-10-09 06:31:32.784405"
            ]
          },
          "metadata": {},
          "execution_count": 152
        }
      ]
    },
    {
      "cell_type": "code",
      "metadata": {
        "colab": {
          "base_uri": "https://localhost:8080/",
          "height": 236
        },
        "id": "UHq1JYLd9KQh",
        "outputId": "507c34d8-1728-48d6-9fc7-234b411e6de9"
      },
      "source": [
        "coba.calculate_table()"
      ],
      "execution_count": 153,
      "outputs": [
        {
          "output_type": "execute_result",
          "data": {
            "text/html": [
              "<div>\n",
              "<style scoped>\n",
              "    .dataframe tbody tr th:only-of-type {\n",
              "        vertical-align: middle;\n",
              "    }\n",
              "\n",
              "    .dataframe tbody tr th {\n",
              "        vertical-align: top;\n",
              "    }\n",
              "\n",
              "    .dataframe thead th {\n",
              "        text-align: right;\n",
              "    }\n",
              "</style>\n",
              "<table border=\"1\" class=\"dataframe\">\n",
              "  <thead>\n",
              "    <tr style=\"text-align: right;\">\n",
              "      <th></th>\n",
              "      <th>quality</th>\n",
              "      <th>relation</th>\n",
              "      <th>C_score</th>\n",
              "      <th>comp_rate</th>\n",
              "      <th>resource_rate</th>\n",
              "      <th>T_score</th>\n",
              "      <th>I_score</th>\n",
              "      <th>S_score</th>\n",
              "    </tr>\n",
              "    <tr>\n",
              "      <th>node_1</th>\n",
              "      <th></th>\n",
              "      <th></th>\n",
              "      <th></th>\n",
              "      <th></th>\n",
              "      <th></th>\n",
              "      <th></th>\n",
              "      <th></th>\n",
              "      <th></th>\n",
              "    </tr>\n",
              "  </thead>\n",
              "  <tbody>\n",
              "    <tr>\n",
              "      <th>A_3</th>\n",
              "      <td>1.339</td>\n",
              "      <td>2</td>\n",
              "      <td>0.669500</td>\n",
              "      <td>0.6</td>\n",
              "      <td>0.8</td>\n",
              "      <td>0.952</td>\n",
              "      <td>0.70</td>\n",
              "      <td>0.79165</td>\n",
              "    </tr>\n",
              "    <tr>\n",
              "      <th>A_4</th>\n",
              "      <td>1.475</td>\n",
              "      <td>2</td>\n",
              "      <td>0.737500</td>\n",
              "      <td>0.6</td>\n",
              "      <td>0.6</td>\n",
              "      <td>0.657</td>\n",
              "      <td>0.60</td>\n",
              "      <td>0.66405</td>\n",
              "    </tr>\n",
              "    <tr>\n",
              "      <th>A_1</th>\n",
              "      <td>1.517</td>\n",
              "      <td>2</td>\n",
              "      <td>0.758500</td>\n",
              "      <td>0.6</td>\n",
              "      <td>0.2</td>\n",
              "      <td>0.740</td>\n",
              "      <td>0.40</td>\n",
              "      <td>0.64355</td>\n",
              "    </tr>\n",
              "    <tr>\n",
              "      <th>A_0</th>\n",
              "      <td>2.567</td>\n",
              "      <td>3</td>\n",
              "      <td>0.855667</td>\n",
              "      <td>0.3</td>\n",
              "      <td>0.4</td>\n",
              "      <td>0.671</td>\n",
              "      <td>0.35</td>\n",
              "      <td>0.63010</td>\n",
              "    </tr>\n",
              "    <tr>\n",
              "      <th>A_2</th>\n",
              "      <td>1.764</td>\n",
              "      <td>3</td>\n",
              "      <td>0.588000</td>\n",
              "      <td>0.6</td>\n",
              "      <td>0.4</td>\n",
              "      <td>0.519</td>\n",
              "      <td>0.50</td>\n",
              "      <td>0.53400</td>\n",
              "    </tr>\n",
              "  </tbody>\n",
              "</table>\n",
              "</div>"
            ],
            "text/plain": [
              "        quality  relation   C_score  ...  T_score  I_score  S_score\n",
              "node_1                               ...                           \n",
              "A_3       1.339         2  0.669500  ...    0.952     0.70  0.79165\n",
              "A_4       1.475         2  0.737500  ...    0.657     0.60  0.66405\n",
              "A_1       1.517         2  0.758500  ...    0.740     0.40  0.64355\n",
              "A_0       2.567         3  0.855667  ...    0.671     0.35  0.63010\n",
              "A_2       1.764         3  0.588000  ...    0.519     0.50  0.53400\n",
              "\n",
              "[5 rows x 8 columns]"
            ]
          },
          "metadata": {},
          "execution_count": 153
        }
      ]
    },
    {
      "cell_type": "markdown",
      "metadata": {
        "id": "53HVTz7inPBw"
      },
      "source": [
        "# Corat - Coret\n"
      ]
    },
    {
      "cell_type": "code",
      "metadata": {
        "id": "ECUatr_Cij7m",
        "colab": {
          "base_uri": "https://localhost:8080/"
        },
        "outputId": "0ad6d5a1-58af-4190-8725-afa1bb9261e6"
      },
      "source": [
        "import numpy as np\n",
        "\n",
        "coba_np = np.identity(5)\n",
        "a = [\n",
        "     [1,2,3,4,5],\n",
        "     [6,7,8,9,10],\n",
        "     [11,12,13,14,15],\n",
        "     [16,17,18,19,20],\n",
        "     [21,22,23,24,25]\n",
        "     ]\n",
        "np_a = np.array(a)\n",
        "coba_np"
      ],
      "execution_count": 126,
      "outputs": [
        {
          "output_type": "execute_result",
          "data": {
            "text/plain": [
              "array([[1., 0., 0., 0., 0.],\n",
              "       [0., 1., 0., 0., 0.],\n",
              "       [0., 0., 1., 0., 0.],\n",
              "       [0., 0., 0., 1., 0.],\n",
              "       [0., 0., 0., 0., 1.]])"
            ]
          },
          "metadata": {},
          "execution_count": 126
        }
      ]
    },
    {
      "cell_type": "code",
      "metadata": {
        "colab": {
          "base_uri": "https://localhost:8080/",
          "height": 35
        },
        "id": "cywNHEZx9P0l",
        "outputId": "07d8ab15-3ea1-4c25-f48d-3ce2defbff8e"
      },
      "source": [
        "prob_coba = [0.1, 0.3, 0.5, 0.4, 0.5]\n",
        "\n",
        "'''\n",
        "for i in range(5):\n",
        "  print(np_a[i][0])\n",
        "  np_a[i][0] *= 5 \n",
        "\n",
        "np_a\n",
        "'''"
      ],
      "execution_count": 127,
      "outputs": [
        {
          "output_type": "execute_result",
          "data": {
            "application/vnd.google.colaboratory.intrinsic+json": {
              "type": "string"
            },
            "text/plain": [
              "'\\nfor i in range(5):\\n  print(np_a[i][0])\\n  np_a[i][0] *= 5 \\n\\nnp_a\\n'"
            ]
          },
          "metadata": {},
          "execution_count": 127
        }
      ]
    },
    {
      "cell_type": "code",
      "metadata": {
        "colab": {
          "base_uri": "https://localhost:8080/"
        },
        "id": "u-dB81ycAAw_",
        "outputId": "18e2807c-3339-4687-e9f7-456843e2ac0c"
      },
      "source": [
        "for i in range(5):\n",
        "  list_con = []\n",
        "  number_con = int(np.ceil(prob_coba[i] * 5))\n",
        "  for j in range(number_con):\n",
        "    numb_ran = random.randint(0,4)\n",
        "    if (numb_ran not in list_con and numb_ran != i):\n",
        "      list_con.append(numb_ran)\n",
        "    elif (numb_ran in list_con or numb_ran == i):\n",
        "      while (numb_ran in list_con or numb_ran == i):\n",
        "        numb_ran = random.randint(0,4)\n",
        "      list_con.append(numb_ran)\n",
        "  print(number_con)\n",
        "  print(list_con)\n",
        "  print('=============')\n",
        "  for j in list_con:\n",
        "    coba_np[i][j] = j+1"
      ],
      "execution_count": 128,
      "outputs": [
        {
          "output_type": "stream",
          "name": "stdout",
          "text": [
            "1\n",
            "[1]\n",
            "=============\n",
            "2\n",
            "[0, 2]\n",
            "=============\n",
            "3\n",
            "[0, 3, 4]\n",
            "=============\n",
            "2\n",
            "[2, 1]\n",
            "=============\n",
            "3\n",
            "[1, 0, 3]\n",
            "=============\n"
          ]
        }
      ]
    },
    {
      "cell_type": "code",
      "metadata": {
        "colab": {
          "base_uri": "https://localhost:8080/"
        },
        "id": "QFYsv4IwG4OR",
        "outputId": "8860c9e2-9697-4899-8d49-cfe6a1a436d3"
      },
      "source": [
        "coba_np = np.identity(5)\n",
        "prob_coba = [0.1, 0.3, 0.5, 0.4, 0.5]\n",
        "#prob_coba = [1, 1, 1, 1, 1]\n",
        "coba_np"
      ],
      "execution_count": 129,
      "outputs": [
        {
          "output_type": "execute_result",
          "data": {
            "text/plain": [
              "array([[1., 0., 0., 0., 0.],\n",
              "       [0., 1., 0., 0., 0.],\n",
              "       [0., 0., 1., 0., 0.],\n",
              "       [0., 0., 0., 1., 0.],\n",
              "       [0., 0., 0., 0., 1.]])"
            ]
          },
          "metadata": {},
          "execution_count": 129
        }
      ]
    },
    {
      "cell_type": "code",
      "metadata": {
        "id": "IwQ8SjdpHM4J",
        "colab": {
          "base_uri": "https://localhost:8080/"
        },
        "outputId": "b126a214-c756-4319-98ec-8454a8d8826e"
      },
      "source": [
        "for i in range(5):\n",
        "  list_row = list(coba_np[i,:])\n",
        "\n",
        "  list_pos_con = []\n",
        "  list_already_con = []\n",
        "  for n,val in enumerate(list_row):\n",
        "    if val == 0:\n",
        "      list_pos_con.append(n)\n",
        "    elif val == 1 and n != i:\n",
        "      list_already_con.append(n)\n",
        "\n",
        "  #print(list_pos_con)\n",
        "  number_con = int(np.ceil(prob_coba[i] * 4))\n",
        "\n",
        "  random_con = 0\n",
        "  if (len(list_already_con) < number_con):\n",
        "    con_left = number_con - (4-len(list_pos_con))\n",
        "    rand_con = random.sample(list_pos_con, con_left)\n",
        "    rand_con = random.sample(list_pos_con, con_left)\n",
        "    \n",
        "    for j in rand_con:\n",
        "      coba_np[j,i] = 1\n",
        "      coba_np[i,j] = 1\n",
        "  #if (len(list_pos_con) == 4 ):\n",
        "  #  con_left = number_con\n",
        "  #else:\n",
        "  #  con_left = number_con - (4-len(list_pos_con))\n",
        "  #print(\"list_post_con \")\n",
        "  #print(list_pos_con)\n",
        "  #print(\"con_left \")\n",
        "  #print(con_left)\n",
        "  #print(\"\\n\")\n",
        "  \n",
        "\n",
        "  \n",
        "\n",
        "coba_np"
      ],
      "execution_count": 130,
      "outputs": [
        {
          "output_type": "execute_result",
          "data": {
            "text/plain": [
              "array([[1., 1., 0., 1., 1.],\n",
              "       [1., 1., 1., 0., 1.],\n",
              "       [0., 1., 1., 1., 0.],\n",
              "       [1., 0., 1., 1., 0.],\n",
              "       [1., 1., 0., 0., 1.]])"
            ]
          },
          "metadata": {},
          "execution_count": 130
        }
      ]
    },
    {
      "cell_type": "code",
      "metadata": {
        "id": "-pwcihWWJdxu",
        "colab": {
          "base_uri": "https://localhost:8080/"
        },
        "outputId": "7753fc77-0354-4f00-e9c6-23d4efbbfaa4"
      },
      "source": [
        "for i in range(len(coba_np)):\n",
        "  for n,val in enumerate(list(coba_np[1,:])):\n",
        "    if (n > i and val == 1):\n",
        "      rand = round(random.uniform(0.5,1.0),3)\n",
        "      coba_np[n,i] = rand\n",
        "      coba_np[i,n] = rand\n",
        "\n",
        "coba_np"
      ],
      "execution_count": 131,
      "outputs": [
        {
          "output_type": "execute_result",
          "data": {
            "text/plain": [
              "array([[1.   , 0.595, 0.822, 1.   , 0.941],\n",
              "       [0.595, 1.   , 0.605, 0.   , 0.664],\n",
              "       [0.822, 0.605, 1.   , 1.   , 0.   ],\n",
              "       [1.   , 0.   , 1.   , 1.   , 0.   ],\n",
              "       [0.941, 0.664, 0.   , 0.   , 1.   ]])"
            ]
          },
          "metadata": {},
          "execution_count": 131
        }
      ]
    },
    {
      "cell_type": "code",
      "metadata": {
        "colab": {
          "base_uri": "https://localhost:8080/"
        },
        "id": "rx9R4eB0_y81",
        "outputId": "76db9c0d-5965-48ca-e310-0f47728bb864"
      },
      "source": [
        "coba_np"
      ],
      "execution_count": 132,
      "outputs": [
        {
          "output_type": "execute_result",
          "data": {
            "text/plain": [
              "array([[1.   , 0.595, 0.822, 1.   , 0.941],\n",
              "       [0.595, 1.   , 0.605, 0.   , 0.664],\n",
              "       [0.822, 0.605, 1.   , 1.   , 0.   ],\n",
              "       [1.   , 0.   , 1.   , 1.   , 0.   ],\n",
              "       [0.941, 0.664, 0.   , 0.   , 1.   ]])"
            ]
          },
          "metadata": {},
          "execution_count": 132
        }
      ]
    },
    {
      "cell_type": "code",
      "metadata": {
        "id": "AidT-_McA9Rp"
      },
      "source": [
        "df = pd.DataFrame(columns=['node_1','node_2','quality','datetime'])\n",
        "for i in range(len(coba_np)):\n",
        "  list_node_rel = list(coba_np[i,:])\n",
        "  for n,val in enumerate(list_node_rel):\n",
        "    if (n != i and val != 0):\n",
        "      df = df.append({'node_1':'A_'+ str(i), 'node_2':'A_' + str(n), 'quality':val,'datetime':dt.datetime.now()}, ignore_index = True)"
      ],
      "execution_count": 133,
      "outputs": []
    },
    {
      "cell_type": "code",
      "metadata": {
        "colab": {
          "base_uri": "https://localhost:8080/",
          "height": 486
        },
        "id": "zSpsjs8mvJA3",
        "outputId": "20874060-2793-4986-a14f-81592e866257"
      },
      "source": [
        "df"
      ],
      "execution_count": 134,
      "outputs": [
        {
          "output_type": "execute_result",
          "data": {
            "text/html": [
              "<div>\n",
              "<style scoped>\n",
              "    .dataframe tbody tr th:only-of-type {\n",
              "        vertical-align: middle;\n",
              "    }\n",
              "\n",
              "    .dataframe tbody tr th {\n",
              "        vertical-align: top;\n",
              "    }\n",
              "\n",
              "    .dataframe thead th {\n",
              "        text-align: right;\n",
              "    }\n",
              "</style>\n",
              "<table border=\"1\" class=\"dataframe\">\n",
              "  <thead>\n",
              "    <tr style=\"text-align: right;\">\n",
              "      <th></th>\n",
              "      <th>node_1</th>\n",
              "      <th>node_2</th>\n",
              "      <th>quality</th>\n",
              "      <th>datetime</th>\n",
              "    </tr>\n",
              "  </thead>\n",
              "  <tbody>\n",
              "    <tr>\n",
              "      <th>0</th>\n",
              "      <td>A_0</td>\n",
              "      <td>A_1</td>\n",
              "      <td>0.595</td>\n",
              "      <td>2021-10-09 06:17:32.175895</td>\n",
              "    </tr>\n",
              "    <tr>\n",
              "      <th>1</th>\n",
              "      <td>A_0</td>\n",
              "      <td>A_2</td>\n",
              "      <td>0.822</td>\n",
              "      <td>2021-10-09 06:17:32.179912</td>\n",
              "    </tr>\n",
              "    <tr>\n",
              "      <th>2</th>\n",
              "      <td>A_0</td>\n",
              "      <td>A_3</td>\n",
              "      <td>1.000</td>\n",
              "      <td>2021-10-09 06:17:32.183560</td>\n",
              "    </tr>\n",
              "    <tr>\n",
              "      <th>3</th>\n",
              "      <td>A_0</td>\n",
              "      <td>A_4</td>\n",
              "      <td>0.941</td>\n",
              "      <td>2021-10-09 06:17:32.188440</td>\n",
              "    </tr>\n",
              "    <tr>\n",
              "      <th>4</th>\n",
              "      <td>A_1</td>\n",
              "      <td>A_0</td>\n",
              "      <td>0.595</td>\n",
              "      <td>2021-10-09 06:17:32.193312</td>\n",
              "    </tr>\n",
              "    <tr>\n",
              "      <th>5</th>\n",
              "      <td>A_1</td>\n",
              "      <td>A_2</td>\n",
              "      <td>0.605</td>\n",
              "      <td>2021-10-09 06:17:32.197835</td>\n",
              "    </tr>\n",
              "    <tr>\n",
              "      <th>6</th>\n",
              "      <td>A_1</td>\n",
              "      <td>A_4</td>\n",
              "      <td>0.664</td>\n",
              "      <td>2021-10-09 06:17:32.203051</td>\n",
              "    </tr>\n",
              "    <tr>\n",
              "      <th>7</th>\n",
              "      <td>A_2</td>\n",
              "      <td>A_0</td>\n",
              "      <td>0.822</td>\n",
              "      <td>2021-10-09 06:17:32.206408</td>\n",
              "    </tr>\n",
              "    <tr>\n",
              "      <th>8</th>\n",
              "      <td>A_2</td>\n",
              "      <td>A_1</td>\n",
              "      <td>0.605</td>\n",
              "      <td>2021-10-09 06:17:32.209903</td>\n",
              "    </tr>\n",
              "    <tr>\n",
              "      <th>9</th>\n",
              "      <td>A_2</td>\n",
              "      <td>A_3</td>\n",
              "      <td>1.000</td>\n",
              "      <td>2021-10-09 06:17:32.213359</td>\n",
              "    </tr>\n",
              "    <tr>\n",
              "      <th>10</th>\n",
              "      <td>A_3</td>\n",
              "      <td>A_0</td>\n",
              "      <td>1.000</td>\n",
              "      <td>2021-10-09 06:17:32.216632</td>\n",
              "    </tr>\n",
              "    <tr>\n",
              "      <th>11</th>\n",
              "      <td>A_3</td>\n",
              "      <td>A_2</td>\n",
              "      <td>1.000</td>\n",
              "      <td>2021-10-09 06:17:32.219746</td>\n",
              "    </tr>\n",
              "    <tr>\n",
              "      <th>12</th>\n",
              "      <td>A_4</td>\n",
              "      <td>A_0</td>\n",
              "      <td>0.941</td>\n",
              "      <td>2021-10-09 06:17:32.222752</td>\n",
              "    </tr>\n",
              "    <tr>\n",
              "      <th>13</th>\n",
              "      <td>A_4</td>\n",
              "      <td>A_1</td>\n",
              "      <td>0.664</td>\n",
              "      <td>2021-10-09 06:17:32.226095</td>\n",
              "    </tr>\n",
              "  </tbody>\n",
              "</table>\n",
              "</div>"
            ],
            "text/plain": [
              "   node_1 node_2  quality                   datetime\n",
              "0     A_0    A_1    0.595 2021-10-09 06:17:32.175895\n",
              "1     A_0    A_2    0.822 2021-10-09 06:17:32.179912\n",
              "2     A_0    A_3    1.000 2021-10-09 06:17:32.183560\n",
              "3     A_0    A_4    0.941 2021-10-09 06:17:32.188440\n",
              "4     A_1    A_0    0.595 2021-10-09 06:17:32.193312\n",
              "5     A_1    A_2    0.605 2021-10-09 06:17:32.197835\n",
              "6     A_1    A_4    0.664 2021-10-09 06:17:32.203051\n",
              "7     A_2    A_0    0.822 2021-10-09 06:17:32.206408\n",
              "8     A_2    A_1    0.605 2021-10-09 06:17:32.209903\n",
              "9     A_2    A_3    1.000 2021-10-09 06:17:32.213359\n",
              "10    A_3    A_0    1.000 2021-10-09 06:17:32.216632\n",
              "11    A_3    A_2    1.000 2021-10-09 06:17:32.219746\n",
              "12    A_4    A_0    0.941 2021-10-09 06:17:32.222752\n",
              "13    A_4    A_1    0.664 2021-10-09 06:17:32.226095"
            ]
          },
          "metadata": {},
          "execution_count": 134
        }
      ]
    },
    {
      "cell_type": "code",
      "metadata": {
        "colab": {
          "base_uri": "https://localhost:8080/"
        },
        "id": "FSFAwo7fvJqX",
        "outputId": "8938dd09-f445-4d0b-87bb-611a4a6f73cc"
      },
      "source": [
        "a = 0\n",
        "a = [1,2,3,4,5]\n",
        "a"
      ],
      "execution_count": 135,
      "outputs": [
        {
          "output_type": "execute_result",
          "data": {
            "text/plain": [
              "[1, 2, 3, 4, 5]"
            ]
          },
          "metadata": {},
          "execution_count": 135
        }
      ]
    },
    {
      "cell_type": "code",
      "metadata": {
        "colab": {
          "base_uri": "https://localhost:8080/"
        },
        "id": "oQYLhfwi0LjV",
        "outputId": "f2554b46-1741-48ba-9f38-1541e8499e02"
      },
      "source": [
        "round(random.uniform(0.5,1.0),3)"
      ],
      "execution_count": 136,
      "outputs": [
        {
          "output_type": "execute_result",
          "data": {
            "text/plain": [
              "0.75"
            ]
          },
          "metadata": {},
          "execution_count": 136
        }
      ]
    },
    {
      "cell_type": "code",
      "metadata": {
        "id": "HluldbCiyUfr",
        "colab": {
          "base_uri": "https://localhost:8080/"
        },
        "outputId": "fe89e7ef-01d3-4fb1-a19a-04b45bb6d40c"
      },
      "source": [
        "int(np.ceil(0.0000001 * 1))"
      ],
      "execution_count": 137,
      "outputs": [
        {
          "output_type": "execute_result",
          "data": {
            "text/plain": [
              "1"
            ]
          },
          "metadata": {},
          "execution_count": 137
        }
      ]
    },
    {
      "cell_type": "code",
      "metadata": {
        "id": "LYW58BhsnmHL",
        "colab": {
          "base_uri": "https://localhost:8080/"
        },
        "outputId": "80786d0f-bf57-4d6b-df34-58eb54921a02"
      },
      "source": [
        "a_dict = {'color': 'blue', 'fruit': 'apple', 'pet': 'dog'}\n",
        "for i in a_dict:\n",
        "  print(a_dict[i])"
      ],
      "execution_count": 138,
      "outputs": [
        {
          "output_type": "stream",
          "name": "stdout",
          "text": [
            "blue\n",
            "apple\n",
            "dog\n"
          ]
        }
      ]
    },
    {
      "cell_type": "code",
      "metadata": {
        "colab": {
          "base_uri": "https://localhost:8080/"
        },
        "id": "DR8F6nii23ZQ",
        "outputId": "e9865649-7d76-4227-832c-1668b24c3201"
      },
      "source": [
        "val = 3\n",
        "if (val > 3):\n",
        "  ls_rand_gen = [0.1, 0.15, 0.35, 0.3]\n",
        "  ls_ha = []\n",
        "\n",
        "  if (val > 4):\n",
        "    for i in ls_rand_gen:\n",
        "      ls_ha.append(int(np.ceil(i * val)))\n",
        "\n",
        "    if (sum(ls_ha) > val):\n",
        "      ls_ha[2] -= (sum(ls_ha) - val)\n",
        "    elif (sum(ls_ha) < val):\n",
        "      ls_ha[2] += (val - sum(ls_ha))\n",
        "\n",
        "    if (ls_ha[3] > ls_ha[2]):\n",
        "      ls_ha[2], ls_ha[3] = ls_ha[3], ls_ha[2]\n",
        "  elif (val == 4):\n",
        "    ls_ha = [1,1,1,1]\n",
        "\n",
        "  dict_res = {}\n",
        "  ls_index = range(val)\n",
        "  for i,val in enumerate(ls_ha):\n",
        "    res_random = random.sample(ls_index, val)\n",
        "    dict_res['Class-'+str(i)]  = res_random\n",
        "    ls_index = list(set(ls_index)-set(res_random))\n",
        "\n",
        "  print(dict_res)\n",
        "elif (val == 3):\n",
        "  dict_res = {\n",
        "      'Class-1':[0],\n",
        "      'Class-2':[1],\n",
        "      'Class-3':[2]\n",
        "  }\n",
        "  print(dict_res)\n",
        "elif (val == 2):\n",
        "  dict_res = {\n",
        "      'Class-1':[0],\n",
        "      'Class-2':[1],\n",
        "  }\n",
        "  print(dict_res)"
      ],
      "execution_count": 139,
      "outputs": [
        {
          "output_type": "stream",
          "name": "stdout",
          "text": [
            "{'Class-1': [0], 'Class-2': [1], 'Class-3': [2]}\n"
          ]
        }
      ]
    },
    {
      "cell_type": "code",
      "metadata": {
        "colab": {
          "base_uri": "https://localhost:8080/"
        },
        "id": "VpB4wOMBBsjT",
        "outputId": "aa6bdc2c-cecc-457e-ebde-4f094f458474"
      },
      "source": [
        "a = [1,2,3,4,5]\n",
        "b = [1,3,5]\n",
        "list(set(a)-set(b))"
      ],
      "execution_count": 140,
      "outputs": [
        {
          "output_type": "execute_result",
          "data": {
            "text/plain": [
              "[2, 4]"
            ]
          },
          "metadata": {},
          "execution_count": 140
        }
      ]
    },
    {
      "cell_type": "code",
      "metadata": {
        "colab": {
          "base_uri": "https://localhost:8080/",
          "height": 143
        },
        "id": "S28ePitvFTq4",
        "outputId": "7bd4050d-8d16-4908-e964-9e9b9b28c25d"
      },
      "source": [
        "data = [['tom', 10], ['nick', 15], ['juli', 14]]\n",
        " \n",
        "# Create the pandas DataFrame\n",
        "df = pd.DataFrame(data, columns = ['Name', 'Age'])\n",
        " \n",
        "# print dataframe.\n",
        "df"
      ],
      "execution_count": 145,
      "outputs": [
        {
          "output_type": "execute_result",
          "data": {
            "text/html": [
              "<div>\n",
              "<style scoped>\n",
              "    .dataframe tbody tr th:only-of-type {\n",
              "        vertical-align: middle;\n",
              "    }\n",
              "\n",
              "    .dataframe tbody tr th {\n",
              "        vertical-align: top;\n",
              "    }\n",
              "\n",
              "    .dataframe thead th {\n",
              "        text-align: right;\n",
              "    }\n",
              "</style>\n",
              "<table border=\"1\" class=\"dataframe\">\n",
              "  <thead>\n",
              "    <tr style=\"text-align: right;\">\n",
              "      <th></th>\n",
              "      <th>Name</th>\n",
              "      <th>Age</th>\n",
              "    </tr>\n",
              "  </thead>\n",
              "  <tbody>\n",
              "    <tr>\n",
              "      <th>0</th>\n",
              "      <td>tom</td>\n",
              "      <td>10</td>\n",
              "    </tr>\n",
              "    <tr>\n",
              "      <th>1</th>\n",
              "      <td>nick</td>\n",
              "      <td>15</td>\n",
              "    </tr>\n",
              "    <tr>\n",
              "      <th>2</th>\n",
              "      <td>juli</td>\n",
              "      <td>14</td>\n",
              "    </tr>\n",
              "  </tbody>\n",
              "</table>\n",
              "</div>"
            ],
            "text/plain": [
              "   Name  Age\n",
              "0   tom   10\n",
              "1  nick   15\n",
              "2  juli   14"
            ]
          },
          "metadata": {},
          "execution_count": 145
        }
      ]
    },
    {
      "cell_type": "code",
      "metadata": {
        "colab": {
          "base_uri": "https://localhost:8080/",
          "height": 143
        },
        "id": "BRjButIVluHL",
        "outputId": "475892fd-89d2-4741-d77b-7428a3d93653"
      },
      "source": [
        "df.at[2, 'kelas'] = 'sd'\n",
        "df['coba'] = 2*df['Age']\n",
        "df"
      ],
      "execution_count": 146,
      "outputs": [
        {
          "output_type": "execute_result",
          "data": {
            "text/html": [
              "<div>\n",
              "<style scoped>\n",
              "    .dataframe tbody tr th:only-of-type {\n",
              "        vertical-align: middle;\n",
              "    }\n",
              "\n",
              "    .dataframe tbody tr th {\n",
              "        vertical-align: top;\n",
              "    }\n",
              "\n",
              "    .dataframe thead th {\n",
              "        text-align: right;\n",
              "    }\n",
              "</style>\n",
              "<table border=\"1\" class=\"dataframe\">\n",
              "  <thead>\n",
              "    <tr style=\"text-align: right;\">\n",
              "      <th></th>\n",
              "      <th>Name</th>\n",
              "      <th>Age</th>\n",
              "      <th>kelas</th>\n",
              "      <th>coba</th>\n",
              "    </tr>\n",
              "  </thead>\n",
              "  <tbody>\n",
              "    <tr>\n",
              "      <th>0</th>\n",
              "      <td>tom</td>\n",
              "      <td>10</td>\n",
              "      <td>NaN</td>\n",
              "      <td>20</td>\n",
              "    </tr>\n",
              "    <tr>\n",
              "      <th>1</th>\n",
              "      <td>nick</td>\n",
              "      <td>15</td>\n",
              "      <td>NaN</td>\n",
              "      <td>30</td>\n",
              "    </tr>\n",
              "    <tr>\n",
              "      <th>2</th>\n",
              "      <td>juli</td>\n",
              "      <td>14</td>\n",
              "      <td>sd</td>\n",
              "      <td>28</td>\n",
              "    </tr>\n",
              "  </tbody>\n",
              "</table>\n",
              "</div>"
            ],
            "text/plain": [
              "   Name  Age kelas  coba\n",
              "0   tom   10   NaN    20\n",
              "1  nick   15   NaN    30\n",
              "2  juli   14    sd    28"
            ]
          },
          "metadata": {},
          "execution_count": 146
        }
      ]
    },
    {
      "cell_type": "code",
      "metadata": {
        "id": "GkgU1pUqmMa4"
      },
      "source": [
        ""
      ],
      "execution_count": 142,
      "outputs": []
    }
  ]
}