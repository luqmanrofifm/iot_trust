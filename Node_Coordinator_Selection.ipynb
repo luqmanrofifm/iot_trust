{
  "nbformat": 4,
  "nbformat_minor": 0,
  "metadata": {
    "colab": {
      "name": "Node Coordinator Selection.ipynb",
      "provenance": [],
      "collapsed_sections": []
    },
    "kernelspec": {
      "name": "python3",
      "display_name": "Python 3"
    },
    "language_info": {
      "name": "python"
    }
  },
  "cells": [
    {
      "cell_type": "markdown",
      "metadata": {
        "id": "Urut7GbJ6Ss7"
      },
      "source": [
        "Generate data untuk mengecek waktu eksekusi berdasarkan jumlah node"
      ]
    },
    {
      "cell_type": "code",
      "metadata": {
        "id": "yMvxDqPNQREE"
      },
      "source": [
        "import pandas as pd\n",
        "import numpy as np\n",
        "import datetime as dt\n",
        "import random\n",
        "from itertools import permutations"
      ],
      "execution_count": 3,
      "outputs": []
    },
    {
      "cell_type": "markdown",
      "metadata": {
        "id": "k6cmwUERBbwc"
      },
      "source": [
        "# Definisi Kelas Komunitas"
      ]
    },
    {
      "cell_type": "code",
      "metadata": {
        "id": "G11spw1L6jMq"
      },
      "source": [
        "# number_of_node merupakan jumlah node pada komunitas\n",
        "\n",
        "# number_of_relaton merupakan total koneksi pada komunitas tersebut\n",
        "# nilai number_of_relation adalah 0 sampai 1\n",
        "# artinya jika terdapat 3 node (A,B,C), maka total koneksi yang memungkinkan ada 6 (A-B, A-C, B-A, B-C, C-A, C-B)\n",
        "# jika misalkan nilai number_of_relation adalah 0.5, maka akan diambil 3 koneksi dari total 6 koneksi\n",
        "\n",
        "class Community:\n",
        "  def __init__ (self, number_of_node, prob_connection=0):\n",
        "    self.number_of_node = number_of_node\n",
        "    self.prob_connection = prob_connection\n",
        "    self.matrix_relation = 0\n",
        "    self.table_of_node = Community.generate_table_node(self, self.number_of_node)\n",
        "    self.table_of_relation = Community.generate_table_relation(self)\n",
        "\n",
        "  # fungsi untuk generate tabel yang berisi daftar node pada suatu komunitas\n",
        "  def generate_table_node(self, number_node):\n",
        "    df = pd.DataFrame(columns=['Comm_ID','Node_ID','X','Y','Trust','RAM'])\n",
        "    for i in range(number_node):\n",
        "      df = df.append({'Comm_ID':'A', 'Node_ID':'A_' + str(i), 'X':random.randint(0,100),'Y':random.randint(0,100), 'Trust':round(random.uniform(0.5,1.0),3), 'RAM':random.uniform(0.1, 4.0)}, ignore_index = True)\n",
        "\n",
        "    return df\n",
        "\n",
        "  # fungsi untuk membuat matrik relasi node\n",
        "  def generate_matrix_relation(self):\n",
        "    number_node = self.number_of_node\n",
        "    prob_connection = self.prob_connection\n",
        "    mat_relation = np.identity(number_node) \n",
        "    all_con_posible = number_node -1\n",
        "\n",
        "    if (prob_connection == 0):\n",
        "      new_prob_con = []\n",
        "      \n",
        "      for i in range(number_node):\n",
        "        new_prob_con.append(random.random())\n",
        "      prob_connection = new_prob_con\n",
        "    \n",
        "\n",
        "    for i in range(number_node):\n",
        "      list_row = list(mat_relation[i,:])\n",
        "\n",
        "      list_pos_con = []\n",
        "      list_already_con = []\n",
        "\n",
        "      for n,val in enumerate(list_row):\n",
        "        if val == 0:\n",
        "          list_pos_con.append(n)\n",
        "        elif val == 1 and n != i:\n",
        "          list_already_con.append(n)\n",
        "\n",
        "      number_con = int(np.ceil(prob_connection[i] * all_con_posible))\n",
        "      random_con = 0\n",
        "\n",
        "      if (len(list_already_con) < number_con):\n",
        "        con_left = number_con - (all_con_posible - len(list_pos_con))\n",
        "        rand_con = random.sample(list_pos_con, con_left)\n",
        "        \n",
        "        for j in rand_con:\n",
        "          mat_relation[j,i] = 1\n",
        "          mat_relation[i,j] = 1\n",
        "\n",
        "    self.matrix_relation = mat_relation\n",
        "    return mat_relation\n",
        "  \n",
        "  # menambahkan quality pada matrik connection\n",
        "  def add_quality_relation(mat_relation):\n",
        "    mat_copy = mat_relation.copy()\n",
        "    for i in range(len(mat_relation)):\n",
        "      for n,val in enumerate(list(mat_relation[i,:])):\n",
        "        if (n > i and val == 1):\n",
        "          rand = round(random.uniform(0.5,1.0),3)\n",
        "          mat_copy[n,i] = rand\n",
        "          mat_copy[i,n] = rand    \n",
        "    return mat_copy \n",
        "\n",
        "  # fungsi untuk generate tabel yang berisi daftar koneksi tiap node\n",
        "  def generate_table_relation(self):\n",
        "    number_node = self.number_of_node\n",
        "    mat_relation = Community.generate_matrix_relation(self)\n",
        "    print(mat_relation)\n",
        "    mat_quality_relation = Community.add_quality_relation(mat_relation)\n",
        "    print(mat_quality_relation)\n",
        "\n",
        "    df = pd.DataFrame(columns=['node_1','node_2','quality','datetime'])\n",
        "\n",
        "    for i in range(number_node):\n",
        "      list_node_rel = list(mat_quality_relation[i,:])\n",
        "      for n,val in enumerate(list_node_rel):\n",
        "        if (n != i and val != 0):\n",
        "          df = df.append({'node_1':'A_'+ str(i), 'node_2':'A_' + str(n), 'quality':val,'datetime':dt.datetime.now()}, ignore_index = True)\n",
        "\n",
        "    return df\n",
        "\n",
        "  #fungsi untuk kalkulasi\n",
        "  def calculate_table(self):\n",
        "    df_calculate = self.table_of_relation.groupby(['node_1']).sum()\n",
        "    df_calculate['number_of_relation'] = list(self.table_of_relation.groupby(['node_1']).size())\n",
        "    df_calculate['rate_quality'] = df_calculate['quality']/df_calculate['number_of_relation']\n",
        "    \n",
        "    df_node = self.table_of_node.copy()\n",
        "    df_node['comp_rate'] = df_node['RAM'].apply(Community.parse_ram)\n",
        "\n",
        "    df_calculate['comp_rate'] = df_node['comp_rate'].tolist()\n",
        "    return df_calculate.sort_values(by='rate_quality', ascending=False)\n",
        "\n",
        "  def parse_ram(ram):\n",
        "    pwr = 0\n",
        "    if ram < 1 :\n",
        "        pwr = 0.3\n",
        "    if ram >= 1 :\n",
        "        pwr = 0.6\n",
        "    if ram >=4 :\n",
        "        pwr = 1\n",
        "    return pwr"
      ],
      "execution_count": 1,
      "outputs": []
    },
    {
      "cell_type": "markdown",
      "metadata": {
        "id": "ihu0dFzbB4ZC"
      },
      "source": [
        "## Buat objek komunitas"
      ]
    },
    {
      "cell_type": "code",
      "metadata": {
        "colab": {
          "base_uri": "https://localhost:8080/"
        },
        "id": "Nop5tMIR8Qj5",
        "outputId": "2773085a-f1e8-4545-ac36-54b631a87525"
      },
      "source": [
        "coba = Community(number_of_node=5, prob_connection=[0.1, 0.3, 0.5, 0.4, 0.5])"
      ],
      "execution_count": 4,
      "outputs": [
        {
          "output_type": "stream",
          "name": "stdout",
          "text": [
            "[[1. 1. 0. 0. 1.]\n",
            " [1. 1. 0. 1. 1.]\n",
            " [0. 0. 1. 1. 1.]\n",
            " [0. 1. 1. 1. 0.]\n",
            " [1. 1. 1. 0. 1.]]\n",
            "[[1.    0.945 0.    0.    0.883]\n",
            " [0.945 1.    0.    0.81  0.868]\n",
            " [0.    0.    1.    0.937 0.615]\n",
            " [0.    0.81  0.937 1.    0.   ]\n",
            " [0.883 0.868 0.615 0.    1.   ]]\n"
          ]
        }
      ]
    },
    {
      "cell_type": "code",
      "metadata": {
        "colab": {
          "base_uri": "https://localhost:8080/"
        },
        "id": "LsAJblMr1MoL",
        "outputId": "09c24070-abf8-4d6b-e416-facbd0409c78"
      },
      "source": [
        "coba.matrix_relation"
      ],
      "execution_count": 5,
      "outputs": [
        {
          "output_type": "execute_result",
          "data": {
            "text/plain": [
              "array([[1., 1., 0., 0., 1.],\n",
              "       [1., 1., 0., 1., 1.],\n",
              "       [0., 0., 1., 1., 1.],\n",
              "       [0., 1., 1., 1., 0.],\n",
              "       [1., 1., 1., 0., 1.]])"
            ]
          },
          "metadata": {},
          "execution_count": 5
        }
      ]
    },
    {
      "cell_type": "code",
      "metadata": {
        "colab": {
          "base_uri": "https://localhost:8080/",
          "height": 425
        },
        "id": "Oh657J2S8W5x",
        "outputId": "d3526d84-5531-4059-ba78-29044a27e716"
      },
      "source": [
        " coba.table_of_relation"
      ],
      "execution_count": 6,
      "outputs": [
        {
          "output_type": "execute_result",
          "data": {
            "text/html": [
              "<div>\n",
              "<style scoped>\n",
              "    .dataframe tbody tr th:only-of-type {\n",
              "        vertical-align: middle;\n",
              "    }\n",
              "\n",
              "    .dataframe tbody tr th {\n",
              "        vertical-align: top;\n",
              "    }\n",
              "\n",
              "    .dataframe thead th {\n",
              "        text-align: right;\n",
              "    }\n",
              "</style>\n",
              "<table border=\"1\" class=\"dataframe\">\n",
              "  <thead>\n",
              "    <tr style=\"text-align: right;\">\n",
              "      <th></th>\n",
              "      <th>node_1</th>\n",
              "      <th>node_2</th>\n",
              "      <th>quality</th>\n",
              "      <th>datetime</th>\n",
              "    </tr>\n",
              "  </thead>\n",
              "  <tbody>\n",
              "    <tr>\n",
              "      <th>0</th>\n",
              "      <td>A_0</td>\n",
              "      <td>A_1</td>\n",
              "      <td>0.945</td>\n",
              "      <td>2021-10-09 02:05:46.939112</td>\n",
              "    </tr>\n",
              "    <tr>\n",
              "      <th>1</th>\n",
              "      <td>A_0</td>\n",
              "      <td>A_4</td>\n",
              "      <td>0.883</td>\n",
              "      <td>2021-10-09 02:05:46.945388</td>\n",
              "    </tr>\n",
              "    <tr>\n",
              "      <th>2</th>\n",
              "      <td>A_1</td>\n",
              "      <td>A_0</td>\n",
              "      <td>0.945</td>\n",
              "      <td>2021-10-09 02:05:46.948746</td>\n",
              "    </tr>\n",
              "    <tr>\n",
              "      <th>3</th>\n",
              "      <td>A_1</td>\n",
              "      <td>A_3</td>\n",
              "      <td>0.810</td>\n",
              "      <td>2021-10-09 02:05:46.951784</td>\n",
              "    </tr>\n",
              "    <tr>\n",
              "      <th>4</th>\n",
              "      <td>A_1</td>\n",
              "      <td>A_4</td>\n",
              "      <td>0.868</td>\n",
              "      <td>2021-10-09 02:05:46.954805</td>\n",
              "    </tr>\n",
              "    <tr>\n",
              "      <th>5</th>\n",
              "      <td>A_2</td>\n",
              "      <td>A_3</td>\n",
              "      <td>0.937</td>\n",
              "      <td>2021-10-09 02:05:46.957749</td>\n",
              "    </tr>\n",
              "    <tr>\n",
              "      <th>6</th>\n",
              "      <td>A_2</td>\n",
              "      <td>A_4</td>\n",
              "      <td>0.615</td>\n",
              "      <td>2021-10-09 02:05:46.960647</td>\n",
              "    </tr>\n",
              "    <tr>\n",
              "      <th>7</th>\n",
              "      <td>A_3</td>\n",
              "      <td>A_1</td>\n",
              "      <td>0.810</td>\n",
              "      <td>2021-10-09 02:05:46.963517</td>\n",
              "    </tr>\n",
              "    <tr>\n",
              "      <th>8</th>\n",
              "      <td>A_3</td>\n",
              "      <td>A_2</td>\n",
              "      <td>0.937</td>\n",
              "      <td>2021-10-09 02:05:46.966785</td>\n",
              "    </tr>\n",
              "    <tr>\n",
              "      <th>9</th>\n",
              "      <td>A_4</td>\n",
              "      <td>A_0</td>\n",
              "      <td>0.883</td>\n",
              "      <td>2021-10-09 02:05:46.970004</td>\n",
              "    </tr>\n",
              "    <tr>\n",
              "      <th>10</th>\n",
              "      <td>A_4</td>\n",
              "      <td>A_1</td>\n",
              "      <td>0.868</td>\n",
              "      <td>2021-10-09 02:05:46.972956</td>\n",
              "    </tr>\n",
              "    <tr>\n",
              "      <th>11</th>\n",
              "      <td>A_4</td>\n",
              "      <td>A_2</td>\n",
              "      <td>0.615</td>\n",
              "      <td>2021-10-09 02:05:46.975836</td>\n",
              "    </tr>\n",
              "  </tbody>\n",
              "</table>\n",
              "</div>"
            ],
            "text/plain": [
              "   node_1 node_2  quality                   datetime\n",
              "0     A_0    A_1    0.945 2021-10-09 02:05:46.939112\n",
              "1     A_0    A_4    0.883 2021-10-09 02:05:46.945388\n",
              "2     A_1    A_0    0.945 2021-10-09 02:05:46.948746\n",
              "3     A_1    A_3    0.810 2021-10-09 02:05:46.951784\n",
              "4     A_1    A_4    0.868 2021-10-09 02:05:46.954805\n",
              "5     A_2    A_3    0.937 2021-10-09 02:05:46.957749\n",
              "6     A_2    A_4    0.615 2021-10-09 02:05:46.960647\n",
              "7     A_3    A_1    0.810 2021-10-09 02:05:46.963517\n",
              "8     A_3    A_2    0.937 2021-10-09 02:05:46.966785\n",
              "9     A_4    A_0    0.883 2021-10-09 02:05:46.970004\n",
              "10    A_4    A_1    0.868 2021-10-09 02:05:46.972956\n",
              "11    A_4    A_2    0.615 2021-10-09 02:05:46.975836"
            ]
          },
          "metadata": {},
          "execution_count": 6
        }
      ]
    },
    {
      "cell_type": "code",
      "metadata": {
        "colab": {
          "base_uri": "https://localhost:8080/",
          "height": 236
        },
        "id": "UHq1JYLd9KQh",
        "outputId": "33047e01-07ae-4f5a-eb7f-c82ec0b5ad73"
      },
      "source": [
        "coba.calculate_table()"
      ],
      "execution_count": 7,
      "outputs": [
        {
          "output_type": "execute_result",
          "data": {
            "text/html": [
              "<div>\n",
              "<style scoped>\n",
              "    .dataframe tbody tr th:only-of-type {\n",
              "        vertical-align: middle;\n",
              "    }\n",
              "\n",
              "    .dataframe tbody tr th {\n",
              "        vertical-align: top;\n",
              "    }\n",
              "\n",
              "    .dataframe thead th {\n",
              "        text-align: right;\n",
              "    }\n",
              "</style>\n",
              "<table border=\"1\" class=\"dataframe\">\n",
              "  <thead>\n",
              "    <tr style=\"text-align: right;\">\n",
              "      <th></th>\n",
              "      <th>quality</th>\n",
              "      <th>number_of_relation</th>\n",
              "      <th>rate_quality</th>\n",
              "      <th>comp_rate</th>\n",
              "    </tr>\n",
              "    <tr>\n",
              "      <th>node_1</th>\n",
              "      <th></th>\n",
              "      <th></th>\n",
              "      <th></th>\n",
              "      <th></th>\n",
              "    </tr>\n",
              "  </thead>\n",
              "  <tbody>\n",
              "    <tr>\n",
              "      <th>A_0</th>\n",
              "      <td>1.828</td>\n",
              "      <td>2</td>\n",
              "      <td>0.914000</td>\n",
              "      <td>0.6</td>\n",
              "    </tr>\n",
              "    <tr>\n",
              "      <th>A_1</th>\n",
              "      <td>2.623</td>\n",
              "      <td>3</td>\n",
              "      <td>0.874333</td>\n",
              "      <td>0.6</td>\n",
              "    </tr>\n",
              "    <tr>\n",
              "      <th>A_3</th>\n",
              "      <td>1.747</td>\n",
              "      <td>2</td>\n",
              "      <td>0.873500</td>\n",
              "      <td>0.6</td>\n",
              "    </tr>\n",
              "    <tr>\n",
              "      <th>A_4</th>\n",
              "      <td>2.366</td>\n",
              "      <td>3</td>\n",
              "      <td>0.788667</td>\n",
              "      <td>0.6</td>\n",
              "    </tr>\n",
              "    <tr>\n",
              "      <th>A_2</th>\n",
              "      <td>1.552</td>\n",
              "      <td>2</td>\n",
              "      <td>0.776000</td>\n",
              "      <td>0.6</td>\n",
              "    </tr>\n",
              "  </tbody>\n",
              "</table>\n",
              "</div>"
            ],
            "text/plain": [
              "        quality  number_of_relation  rate_quality  comp_rate\n",
              "node_1                                                      \n",
              "A_0       1.828                   2      0.914000        0.6\n",
              "A_1       2.623                   3      0.874333        0.6\n",
              "A_3       1.747                   2      0.873500        0.6\n",
              "A_4       2.366                   3      0.788667        0.6\n",
              "A_2       1.552                   2      0.776000        0.6"
            ]
          },
          "metadata": {},
          "execution_count": 7
        }
      ]
    },
    {
      "cell_type": "markdown",
      "metadata": {
        "id": "53HVTz7inPBw"
      },
      "source": [
        "# Corat - Coret\n"
      ]
    },
    {
      "cell_type": "code",
      "metadata": {
        "id": "ECUatr_Cij7m",
        "colab": {
          "base_uri": "https://localhost:8080/"
        },
        "outputId": "88d85afe-cf2e-417a-9112-fa51013603c6"
      },
      "source": [
        "import numpy as np\n",
        "\n",
        "coba_np = np.identity(5)\n",
        "a = [\n",
        "     [1,2,3,4,5],\n",
        "     [6,7,8,9,10],\n",
        "     [11,12,13,14,15],\n",
        "     [16,17,18,19,20],\n",
        "     [21,22,23,24,25]\n",
        "     ]\n",
        "np_a = np.array(a)\n",
        "coba_np"
      ],
      "execution_count": null,
      "outputs": [
        {
          "output_type": "execute_result",
          "data": {
            "text/plain": [
              "array([[1., 0., 0., 0., 0.],\n",
              "       [0., 1., 0., 0., 0.],\n",
              "       [0., 0., 1., 0., 0.],\n",
              "       [0., 0., 0., 1., 0.],\n",
              "       [0., 0., 0., 0., 1.]])"
            ]
          },
          "metadata": {},
          "execution_count": 62
        }
      ]
    },
    {
      "cell_type": "code",
      "metadata": {
        "colab": {
          "base_uri": "https://localhost:8080/",
          "height": 35
        },
        "id": "cywNHEZx9P0l",
        "outputId": "734b6ffd-279d-4c57-c79a-f3e31fb5f419"
      },
      "source": [
        "prob_coba = [0.1, 0.3, 0.5, 0.4, 0.5]\n",
        "\n",
        "'''\n",
        "for i in range(5):\n",
        "  print(np_a[i][0])\n",
        "  np_a[i][0] *= 5 \n",
        "\n",
        "np_a\n",
        "'''"
      ],
      "execution_count": null,
      "outputs": [
        {
          "output_type": "execute_result",
          "data": {
            "application/vnd.google.colaboratory.intrinsic+json": {
              "type": "string"
            },
            "text/plain": [
              "'\\nfor i in range(5):\\n  print(np_a[i][0])\\n  np_a[i][0] *= 5 \\n\\nnp_a\\n'"
            ]
          },
          "metadata": {},
          "execution_count": 12
        }
      ]
    },
    {
      "cell_type": "code",
      "metadata": {
        "colab": {
          "base_uri": "https://localhost:8080/"
        },
        "id": "u-dB81ycAAw_",
        "outputId": "7a46a75d-fd00-4015-892a-abfca52cb778"
      },
      "source": [
        "for i in range(5):\n",
        "  list_con = []\n",
        "  number_con = int(np.ceil(prob_coba[i] * 5))\n",
        "  for j in range(number_con):\n",
        "    numb_ran = random.randint(0,4)\n",
        "    if (numb_ran not in list_con and numb_ran != i):\n",
        "      list_con.append(numb_ran)\n",
        "    elif (numb_ran in list_con or numb_ran == i):\n",
        "      while (numb_ran in list_con or numb_ran == i):\n",
        "        numb_ran = random.randint(0,4)\n",
        "      list_con.append(numb_ran)\n",
        "  print(number_con)\n",
        "  print(list_con)\n",
        "  print('=============')\n",
        "  for j in list_con:\n",
        "    coba_np[i][j] = j+1"
      ],
      "execution_count": null,
      "outputs": [
        {
          "output_type": "stream",
          "name": "stdout",
          "text": [
            "1\n",
            "[2]\n",
            "=============\n",
            "2\n",
            "[0, 2]\n",
            "=============\n",
            "3\n",
            "[0, 4, 1]\n",
            "=============\n",
            "2\n",
            "[4, 1]\n",
            "=============\n",
            "3\n",
            "[3, 1, 0]\n",
            "=============\n"
          ]
        }
      ]
    },
    {
      "cell_type": "code",
      "metadata": {
        "colab": {
          "base_uri": "https://localhost:8080/"
        },
        "id": "QFYsv4IwG4OR",
        "outputId": "7d66686e-1002-44d2-a52d-10194a0f8517"
      },
      "source": [
        "coba_np = np.identity(5)\n",
        "prob_coba = [0.1, 0.3, 0.5, 0.4, 0.5]\n",
        "#prob_coba = [1, 1, 1, 1, 1]\n",
        "coba_np"
      ],
      "execution_count": null,
      "outputs": [
        {
          "output_type": "execute_result",
          "data": {
            "text/plain": [
              "array([[1., 0., 0., 0., 0.],\n",
              "       [0., 1., 0., 0., 0.],\n",
              "       [0., 0., 1., 0., 0.],\n",
              "       [0., 0., 0., 1., 0.],\n",
              "       [0., 0., 0., 0., 1.]])"
            ]
          },
          "metadata": {},
          "execution_count": 23
        }
      ]
    },
    {
      "cell_type": "code",
      "metadata": {
        "id": "IwQ8SjdpHM4J",
        "colab": {
          "base_uri": "https://localhost:8080/"
        },
        "outputId": "43c55304-701b-4316-b4a5-e564bea48ddb"
      },
      "source": [
        "for i in range(5):\n",
        "  list_row = list(coba_np[i,:])\n",
        "\n",
        "  list_pos_con = []\n",
        "  list_already_con = []\n",
        "  for n,val in enumerate(list_row):\n",
        "    if val == 0:\n",
        "      list_pos_con.append(n)\n",
        "    elif val == 1 and n != i:\n",
        "      list_already_con.append(n)\n",
        "\n",
        "  #print(list_pos_con)\n",
        "  number_con = int(np.ceil(prob_coba[i] * 4))\n",
        "\n",
        "  random_con = 0\n",
        "  if (len(list_already_con) < number_con):\n",
        "    con_left = number_con - (4-len(list_pos_con))\n",
        "    rand_con = random.sample(list_pos_con, con_left)\n",
        "    rand_con = random.sample(list_pos_con, con_left)\n",
        "    \n",
        "    for j in rand_con:\n",
        "      coba_np[j,i] = 1\n",
        "      coba_np[i,j] = 1\n",
        "  #if (len(list_pos_con) == 4 ):\n",
        "  #  con_left = number_con\n",
        "  #else:\n",
        "  #  con_left = number_con - (4-len(list_pos_con))\n",
        "  #print(\"list_post_con \")\n",
        "  #print(list_pos_con)\n",
        "  #print(\"con_left \")\n",
        "  #print(con_left)\n",
        "  #print(\"\\n\")\n",
        "  \n",
        "\n",
        "  \n",
        "\n",
        "coba_np"
      ],
      "execution_count": null,
      "outputs": [
        {
          "output_type": "execute_result",
          "data": {
            "text/plain": [
              "array([[1., 1., 0., 0., 1.],\n",
              "       [1., 1., 1., 0., 0.],\n",
              "       [0., 1., 1., 1., 0.],\n",
              "       [0., 0., 1., 1., 1.],\n",
              "       [1., 0., 0., 1., 1.]])"
            ]
          },
          "metadata": {},
          "execution_count": 24
        }
      ]
    },
    {
      "cell_type": "code",
      "metadata": {
        "id": "-pwcihWWJdxu",
        "colab": {
          "base_uri": "https://localhost:8080/"
        },
        "outputId": "6f81501e-b27c-48a5-942f-e7ed3aba76ff"
      },
      "source": [
        "for i in range(len(coba_np)):\n",
        "  for n,val in enumerate(list(coba_np[1,:])):\n",
        "    if (n > i and val == 1):\n",
        "      rand = round(random.uniform(0.5,1.0),3)\n",
        "      coba_np[n,i] = rand\n",
        "      coba_np[i,n] = rand\n",
        "\n",
        "coba_np"
      ],
      "execution_count": null,
      "outputs": [
        {
          "output_type": "execute_result",
          "data": {
            "text/plain": [
              "array([[1.   , 0.905, 0.503, 0.   , 1.   ],\n",
              "       [0.905, 1.   , 0.852, 0.   , 0.   ],\n",
              "       [0.503, 0.852, 1.   , 1.   , 0.   ],\n",
              "       [0.   , 0.   , 1.   , 1.   , 1.   ],\n",
              "       [1.   , 0.   , 0.   , 1.   , 1.   ]])"
            ]
          },
          "metadata": {},
          "execution_count": 25
        }
      ]
    },
    {
      "cell_type": "code",
      "metadata": {
        "colab": {
          "base_uri": "https://localhost:8080/"
        },
        "id": "rx9R4eB0_y81",
        "outputId": "237d481e-76ce-4139-dcd8-d49d42cf5bb0"
      },
      "source": [
        "coba_np"
      ],
      "execution_count": null,
      "outputs": [
        {
          "output_type": "execute_result",
          "data": {
            "text/plain": [
              "array([[1.   , 0.024, 0.   , 0.354, 0.   ],\n",
              "       [0.024, 1.   , 0.   , 0.772, 0.   ],\n",
              "       [0.   , 0.   , 1.   , 1.   , 1.   ],\n",
              "       [0.354, 0.772, 1.   , 1.   , 1.   ],\n",
              "       [0.   , 0.   , 1.   , 1.   , 1.   ]])"
            ]
          },
          "metadata": {},
          "execution_count": 56
        }
      ]
    },
    {
      "cell_type": "code",
      "metadata": {
        "id": "AidT-_McA9Rp"
      },
      "source": [
        "df = pd.DataFrame(columns=['node_1','node_2','quality','datetime'])\n",
        "for i in range(len(coba_np)):\n",
        "  list_node_rel = list(coba_np[i,:])\n",
        "  for n,val in enumerate(list_node_rel):\n",
        "    if (n != i and val != 0):\n",
        "      df = df.append({'node_1':'A_'+ str(i), 'node_2':'A_' + str(n), 'quality':val,'datetime':dt.datetime.now()}, ignore_index = True)"
      ],
      "execution_count": null,
      "outputs": []
    },
    {
      "cell_type": "code",
      "metadata": {
        "colab": {
          "base_uri": "https://localhost:8080/",
          "height": 488
        },
        "id": "zSpsjs8mvJA3",
        "outputId": "eb822fe4-931e-473c-e8dd-0b1caba58366"
      },
      "source": [
        "df"
      ],
      "execution_count": null,
      "outputs": [
        {
          "output_type": "execute_result",
          "data": {
            "text/html": [
              "<div>\n",
              "<style scoped>\n",
              "    .dataframe tbody tr th:only-of-type {\n",
              "        vertical-align: middle;\n",
              "    }\n",
              "\n",
              "    .dataframe tbody tr th {\n",
              "        vertical-align: top;\n",
              "    }\n",
              "\n",
              "    .dataframe thead th {\n",
              "        text-align: right;\n",
              "    }\n",
              "</style>\n",
              "<table border=\"1\" class=\"dataframe\">\n",
              "  <thead>\n",
              "    <tr style=\"text-align: right;\">\n",
              "      <th></th>\n",
              "      <th>node_1</th>\n",
              "      <th>node_2</th>\n",
              "      <th>quality</th>\n",
              "      <th>datetime</th>\n",
              "    </tr>\n",
              "  </thead>\n",
              "  <tbody>\n",
              "    <tr>\n",
              "      <th>0</th>\n",
              "      <td>A_0</td>\n",
              "      <td>A_1</td>\n",
              "      <td>0.875</td>\n",
              "      <td>2021-10-04 10:03:32.598448</td>\n",
              "    </tr>\n",
              "    <tr>\n",
              "      <th>1</th>\n",
              "      <td>A_0</td>\n",
              "      <td>A_2</td>\n",
              "      <td>0.734</td>\n",
              "      <td>2021-10-04 10:03:32.602340</td>\n",
              "    </tr>\n",
              "    <tr>\n",
              "      <th>2</th>\n",
              "      <td>A_0</td>\n",
              "      <td>A_3</td>\n",
              "      <td>0.874</td>\n",
              "      <td>2021-10-04 10:03:32.604916</td>\n",
              "    </tr>\n",
              "    <tr>\n",
              "      <th>3</th>\n",
              "      <td>A_0</td>\n",
              "      <td>A_4</td>\n",
              "      <td>0.662</td>\n",
              "      <td>2021-10-04 10:03:32.607580</td>\n",
              "    </tr>\n",
              "    <tr>\n",
              "      <th>4</th>\n",
              "      <td>A_1</td>\n",
              "      <td>A_0</td>\n",
              "      <td>0.875</td>\n",
              "      <td>2021-10-04 10:03:32.610289</td>\n",
              "    </tr>\n",
              "    <tr>\n",
              "      <th>5</th>\n",
              "      <td>A_1</td>\n",
              "      <td>A_2</td>\n",
              "      <td>0.791</td>\n",
              "      <td>2021-10-04 10:03:32.612808</td>\n",
              "    </tr>\n",
              "    <tr>\n",
              "      <th>6</th>\n",
              "      <td>A_1</td>\n",
              "      <td>A_3</td>\n",
              "      <td>0.151</td>\n",
              "      <td>2021-10-04 10:03:32.615407</td>\n",
              "    </tr>\n",
              "    <tr>\n",
              "      <th>7</th>\n",
              "      <td>A_1</td>\n",
              "      <td>A_4</td>\n",
              "      <td>0.167</td>\n",
              "      <td>2021-10-04 10:03:32.617877</td>\n",
              "    </tr>\n",
              "    <tr>\n",
              "      <th>8</th>\n",
              "      <td>A_2</td>\n",
              "      <td>A_0</td>\n",
              "      <td>0.734</td>\n",
              "      <td>2021-10-04 10:03:32.620400</td>\n",
              "    </tr>\n",
              "    <tr>\n",
              "      <th>9</th>\n",
              "      <td>A_2</td>\n",
              "      <td>A_1</td>\n",
              "      <td>0.791</td>\n",
              "      <td>2021-10-04 10:03:32.622981</td>\n",
              "    </tr>\n",
              "    <tr>\n",
              "      <th>10</th>\n",
              "      <td>A_3</td>\n",
              "      <td>A_0</td>\n",
              "      <td>0.874</td>\n",
              "      <td>2021-10-04 10:03:32.625860</td>\n",
              "    </tr>\n",
              "    <tr>\n",
              "      <th>11</th>\n",
              "      <td>A_3</td>\n",
              "      <td>A_1</td>\n",
              "      <td>0.151</td>\n",
              "      <td>2021-10-04 10:03:32.629112</td>\n",
              "    </tr>\n",
              "    <tr>\n",
              "      <th>12</th>\n",
              "      <td>A_4</td>\n",
              "      <td>A_0</td>\n",
              "      <td>0.662</td>\n",
              "      <td>2021-10-04 10:03:32.632295</td>\n",
              "    </tr>\n",
              "    <tr>\n",
              "      <th>13</th>\n",
              "      <td>A_4</td>\n",
              "      <td>A_1</td>\n",
              "      <td>0.167</td>\n",
              "      <td>2021-10-04 10:03:32.635433</td>\n",
              "    </tr>\n",
              "  </tbody>\n",
              "</table>\n",
              "</div>"
            ],
            "text/plain": [
              "   node_1 node_2  quality                   datetime\n",
              "0     A_0    A_1    0.875 2021-10-04 10:03:32.598448\n",
              "1     A_0    A_2    0.734 2021-10-04 10:03:32.602340\n",
              "2     A_0    A_3    0.874 2021-10-04 10:03:32.604916\n",
              "3     A_0    A_4    0.662 2021-10-04 10:03:32.607580\n",
              "4     A_1    A_0    0.875 2021-10-04 10:03:32.610289\n",
              "5     A_1    A_2    0.791 2021-10-04 10:03:32.612808\n",
              "6     A_1    A_3    0.151 2021-10-04 10:03:32.615407\n",
              "7     A_1    A_4    0.167 2021-10-04 10:03:32.617877\n",
              "8     A_2    A_0    0.734 2021-10-04 10:03:32.620400\n",
              "9     A_2    A_1    0.791 2021-10-04 10:03:32.622981\n",
              "10    A_3    A_0    0.874 2021-10-04 10:03:32.625860\n",
              "11    A_3    A_1    0.151 2021-10-04 10:03:32.629112\n",
              "12    A_4    A_0    0.662 2021-10-04 10:03:32.632295\n",
              "13    A_4    A_1    0.167 2021-10-04 10:03:32.635433"
            ]
          },
          "metadata": {},
          "execution_count": 66
        }
      ]
    },
    {
      "cell_type": "code",
      "metadata": {
        "colab": {
          "base_uri": "https://localhost:8080/"
        },
        "id": "FSFAwo7fvJqX",
        "outputId": "b329c88a-c408-4260-c0f7-57c7502087cd"
      },
      "source": [
        "a = 0\n",
        "a = [1,2,3,4,5]\n",
        "a"
      ],
      "execution_count": null,
      "outputs": [
        {
          "output_type": "execute_result",
          "data": {
            "text/plain": [
              "[1, 2, 3, 4, 5]"
            ]
          },
          "metadata": {},
          "execution_count": 68
        }
      ]
    },
    {
      "cell_type": "code",
      "metadata": {
        "colab": {
          "base_uri": "https://localhost:8080/"
        },
        "id": "oQYLhfwi0LjV",
        "outputId": "79b36025-6428-40d9-eb07-1b2f703d8a93"
      },
      "source": [
        "round(random.uniform(0.5,1.0),3)"
      ],
      "execution_count": null,
      "outputs": [
        {
          "output_type": "execute_result",
          "data": {
            "text/plain": [
              "0.629"
            ]
          },
          "metadata": {},
          "execution_count": 90
        }
      ]
    },
    {
      "cell_type": "code",
      "metadata": {
        "id": "HluldbCiyUfr",
        "colab": {
          "base_uri": "https://localhost:8080/"
        },
        "outputId": "0bd95a7b-ccb7-4de8-8a1b-4f6522ca07f0"
      },
      "source": [
        "int(np.ceil(0.0000001 * 1))"
      ],
      "execution_count": null,
      "outputs": [
        {
          "output_type": "execute_result",
          "data": {
            "text/plain": [
              "1"
            ]
          },
          "metadata": {},
          "execution_count": 11
        }
      ]
    },
    {
      "cell_type": "code",
      "metadata": {
        "id": "LYW58BhsnmHL"
      },
      "source": [
        ""
      ],
      "execution_count": null,
      "outputs": []
    }
  ]
}